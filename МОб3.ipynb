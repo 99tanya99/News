{
  "nbformat": 4,
  "nbformat_minor": 0,
  "metadata": {
    "colab": {
      "provenance": [],
      "authorship_tag": "ABX9TyMwU5YM/9kNhnDHCjKgId0b",
      "include_colab_link": true
    },
    "kernelspec": {
      "name": "python3",
      "display_name": "Python 3"
    },
    "language_info": {
      "name": "python"
    }
  },
  "cells": [
    {
      "cell_type": "markdown",
      "metadata": {
        "id": "view-in-github",
        "colab_type": "text"
      },
      "source": [
        "<a href=\"https://colab.research.google.com/github/99tanya99/News/blob/main/%D0%9C%D0%9E%D0%B13.ipynb\" target=\"_parent\"><img src=\"https://colab.research.google.com/assets/colab-badge.svg\" alt=\"Open In Colab\"/></a>"
      ]
    },
    {
      "cell_type": "markdown",
      "source": [
        "# Описание датасета"
      ],
      "metadata": {
        "id": "sKJSBTBin7iT"
      }
    },
    {
      "cell_type": "markdown",
      "source": [
        "### Описание переменных в датасете\n",
        "\n",
        "#### Основные переменные:\n",
        "1. **`date`**  \n",
        "   - **Тип**: `datetime`  \n",
        "   - **Описание**: Дата и время публикации поста в формате `YYYY-MM-DD HH:MM:SS`.  \n",
        "   - **Пример**: `2023-01-10 16:19:00`.\n",
        "\n",
        "2. **`post_url`**  \n",
        "   - **Тип**: `string` (URL)  \n",
        "   - **Описание**: Ссылка на пост в Telegram.  \n",
        "   - **Пример**: `https://t.me/tnkoff_analytics_official/483/?e...`.\n",
        "\n",
        "3. **`text`**  \n",
        "   - **Тип**: `string`  \n",
        "   - **Описание**: Полный текст поста. Может содержать обрезанные фрагменты (многоточия).  \n",
        "   - **Пример**:  \n",
        "     ```  \n",
        "     Спрос на морские перевозки падает — как это ...  \n",
        "     Ожидаемое замедление инфляции в США улв два.  \n",
        "     ```\n",
        "\n",
        "4. **`summarized_text`**  \n",
        "   - **Тип**: `string`  \n",
        "   - **Описание**: Сокращенная версия текста (суммаризация). В данных отсутствует (пустые значения).  \n",
        "\n",
        "#### Переменные для анализа тональности:\n",
        "5. **`regular_text_sentiment_label`**  \n",
        "   - **Тип**: `categorical`  \n",
        "   - **Значения**: `negative`, `neutral`, `positive`  \n",
        "   - **Описание**: Метка тональности исходного текста.  \n",
        "\n",
        "6. **`regular_text_sentiment_score`**  \n",
        "   - **Тип**: `float` (диапазон: [0, 1])  \n",
        "   - **Описание**: Числовая оценка тональности. Чем выше, тем сильнее выражен сентимент.  \n",
        "   - **Пример**: `0.839419` (сильный негатив).  \n",
        "\n",
        "7. **`summarized_text_sentiment_label`**  \n",
        "   - **Тип**: `categorical`  \n",
        "   - **Значения**: Аналогично `regular_text_sentiment_label`.  \n",
        "\n",
        "8. **`summarized_text_sentiment_score`**  \n",
        "   - **Тип**: `float`  \n",
        "   - **Описание**: Оценка тональности для суммаризированного текста.  \n",
        "   - **Пример**: `0.962864` (очень негативный).   "
      ],
      "metadata": {
        "id": "nOscLHLKn7sL"
      }
    },
    {
      "cell_type": "markdown",
      "source": [
        "### Постановка задачи\n",
        "\n",
        "**Цель**: Определить тональность текста поста на основе его суммаризированной версии.  \n",
        "\n",
        "**Используемые данные**:  \n",
        "- Признак `summarized_text` — сокращенный текст поста.  \n",
        "- Целевая переменная `summarized_text_sentiment_label` — метка тональности (`negative`, `neutral`, `positive`).  \n",
        "\n",
        "**Шаги решения**:  \n",
        "1. **Предобработка текста**:  \n",
        "   - Очистка от спецсимволов, приведение к нижнему регистру.  \n",
        "   - Лемматизация/стемминг (`nltk`).   \n",
        "\n",
        "2. **Векторизация текста**:  \n",
        "   - Использование метода мешка слов для преобразования текста в числовые признаки.  \n",
        "\n",
        "3. **Классификация тональности**:  \n",
        "   - Обучение модели на размеченных данных.  \n",
        "   - Оценка качества через метрики:`F1-score`, матрица ошибок.  \n",
        "\n",
        "4. **Интерпретация результатов**:  \n",
        "   - Анализ ошибок модели.  \n",
        "   - Примеры неправильно классифицированных текстов."
      ],
      "metadata": {
        "id": "89XBx62My7dk"
      }
    },
    {
      "cell_type": "markdown",
      "source": [
        "### Предобработка"
      ],
      "metadata": {
        "id": "FVZ9SqvG4Dtj"
      }
    },
    {
      "cell_type": "markdown",
      "source": [
        "**Импорт библиотек**"
      ],
      "metadata": {
        "id": "EJXwx30Ey8_r"
      }
    },
    {
      "cell_type": "code",
      "source": [
        "import numpy as np #работа с многомерными массивами\n",
        "import pandas as pd #работа с числовыми таблицами и временными рядами\n",
        "import matplotlib.pyplot as plt #визуализация (графики)\n",
        "import scipy #пакет прикладных математических процедур\n",
        "import scipy.stats as stats #статистические функции/критерии\n",
        "import seaborn as sns #статистические графики\n",
        "import math #математические операции с числами"
      ],
      "metadata": {
        "id": "iAsKpkeJzFr8"
      },
      "execution_count": 2,
      "outputs": []
    },
    {
      "cell_type": "code",
      "source": [
        "df = pd.read_csv('telegram_data.csv',sep=',')\n",
        "df.head(5)"
      ],
      "metadata": {
        "colab": {
          "base_uri": "https://localhost:8080/",
          "height": 538
        },
        "id": "PovQAIsxzINs",
        "outputId": "c51b9589-a155-4253-b801-eb2f6d117993"
      },
      "execution_count": 3,
      "outputs": [
        {
          "output_type": "execute_result",
          "data": {
            "text/plain": [
              "                  date                                           post_url  \\\n",
              "0  2023-01-10 16:19:00  https://t.me/tinkoff_analytics_official/483/?e...   \n",
              "1  2023-01-11 15:04:00  https://t.me/tinkoff_analytics_official/484/?e...   \n",
              "2  2023-01-12 18:13:00  https://t.me/tinkoff_analytics_official/485/?e...   \n",
              "3  2023-01-16 17:16:00  https://t.me/tinkoff_analytics_official/486/?e...   \n",
              "4  2023-01-17 17:25:00  https://t.me/tinkoff_analytics_official/489/?e...   \n",
              "\n",
              "                                                text  \\\n",
              "0  ​​Спрос на морские перевозки падает — как это ...   \n",
              "1  Новое бюджетное правило в действии  \\nС 13 янв...   \n",
              "2  Ожидаемое замедление инфляции в США   \\nВ дека...   \n",
              "3  Главными событиями прошлой недели стали возвра...   \n",
              "4  ​​Сбер: рост прибыли ускоряется  \\nрекомендаци...   \n",
              "\n",
              "                                     summarized_text  \\\n",
              "0  Спрос на морские перевозки из Азии в США упал ...   \n",
              "1  Банк России возобновит операции с иностранной ...   \n",
              "2  Ожидаемое замедление инфляции в США замедлилос...   \n",
              "3  Вслед за возвращением бюджетного правила в Рос...   \n",
              "4  Сбер зафиксировал годовой обвал прибыли на 40%...   \n",
              "\n",
              "  regular_text_sentiment_label  regular_text_sentiment_score  \\\n",
              "0                     negative                      0.839419   \n",
              "1                      neutral                      0.539706   \n",
              "2                     negative                      0.737480   \n",
              "3                     positive                      0.805179   \n",
              "4                     positive                      0.919446   \n",
              "\n",
              "  summarized_text_sentiment_label  summarized_text_sentiment_score  \n",
              "0                        negative                         0.962864  \n",
              "1                         neutral                         0.656357  \n",
              "2                        negative                         0.787353  \n",
              "3                        positive                         0.594537  \n",
              "4                        negative                         0.534806  "
            ],
            "text/html": [
              "\n",
              "  <div id=\"df-e93af268-8dab-4e3a-91cc-f96b1f2a6f8e\" class=\"colab-df-container\">\n",
              "    <div>\n",
              "<style scoped>\n",
              "    .dataframe tbody tr th:only-of-type {\n",
              "        vertical-align: middle;\n",
              "    }\n",
              "\n",
              "    .dataframe tbody tr th {\n",
              "        vertical-align: top;\n",
              "    }\n",
              "\n",
              "    .dataframe thead th {\n",
              "        text-align: right;\n",
              "    }\n",
              "</style>\n",
              "<table border=\"1\" class=\"dataframe\">\n",
              "  <thead>\n",
              "    <tr style=\"text-align: right;\">\n",
              "      <th></th>\n",
              "      <th>date</th>\n",
              "      <th>post_url</th>\n",
              "      <th>text</th>\n",
              "      <th>summarized_text</th>\n",
              "      <th>regular_text_sentiment_label</th>\n",
              "      <th>regular_text_sentiment_score</th>\n",
              "      <th>summarized_text_sentiment_label</th>\n",
              "      <th>summarized_text_sentiment_score</th>\n",
              "    </tr>\n",
              "  </thead>\n",
              "  <tbody>\n",
              "    <tr>\n",
              "      <th>0</th>\n",
              "      <td>2023-01-10 16:19:00</td>\n",
              "      <td>https://t.me/tinkoff_analytics_official/483/?e...</td>\n",
              "      <td>​​Спрос на морские перевозки падает — как это ...</td>\n",
              "      <td>Спрос на морские перевозки из Азии в США упал ...</td>\n",
              "      <td>negative</td>\n",
              "      <td>0.839419</td>\n",
              "      <td>negative</td>\n",
              "      <td>0.962864</td>\n",
              "    </tr>\n",
              "    <tr>\n",
              "      <th>1</th>\n",
              "      <td>2023-01-11 15:04:00</td>\n",
              "      <td>https://t.me/tinkoff_analytics_official/484/?e...</td>\n",
              "      <td>Новое бюджетное правило в действии  \\nС 13 янв...</td>\n",
              "      <td>Банк России возобновит операции с иностранной ...</td>\n",
              "      <td>neutral</td>\n",
              "      <td>0.539706</td>\n",
              "      <td>neutral</td>\n",
              "      <td>0.656357</td>\n",
              "    </tr>\n",
              "    <tr>\n",
              "      <th>2</th>\n",
              "      <td>2023-01-12 18:13:00</td>\n",
              "      <td>https://t.me/tinkoff_analytics_official/485/?e...</td>\n",
              "      <td>Ожидаемое замедление инфляции в США   \\nВ дека...</td>\n",
              "      <td>Ожидаемое замедление инфляции в США замедлилос...</td>\n",
              "      <td>negative</td>\n",
              "      <td>0.737480</td>\n",
              "      <td>negative</td>\n",
              "      <td>0.787353</td>\n",
              "    </tr>\n",
              "    <tr>\n",
              "      <th>3</th>\n",
              "      <td>2023-01-16 17:16:00</td>\n",
              "      <td>https://t.me/tinkoff_analytics_official/486/?e...</td>\n",
              "      <td>Главными событиями прошлой недели стали возвра...</td>\n",
              "      <td>Вслед за возвращением бюджетного правила в Рос...</td>\n",
              "      <td>positive</td>\n",
              "      <td>0.805179</td>\n",
              "      <td>positive</td>\n",
              "      <td>0.594537</td>\n",
              "    </tr>\n",
              "    <tr>\n",
              "      <th>4</th>\n",
              "      <td>2023-01-17 17:25:00</td>\n",
              "      <td>https://t.me/tinkoff_analytics_official/489/?e...</td>\n",
              "      <td>​​Сбер: рост прибыли ускоряется  \\nрекомендаци...</td>\n",
              "      <td>Сбер зафиксировал годовой обвал прибыли на 40%...</td>\n",
              "      <td>positive</td>\n",
              "      <td>0.919446</td>\n",
              "      <td>negative</td>\n",
              "      <td>0.534806</td>\n",
              "    </tr>\n",
              "  </tbody>\n",
              "</table>\n",
              "</div>\n",
              "    <div class=\"colab-df-buttons\">\n",
              "\n",
              "  <div class=\"colab-df-container\">\n",
              "    <button class=\"colab-df-convert\" onclick=\"convertToInteractive('df-e93af268-8dab-4e3a-91cc-f96b1f2a6f8e')\"\n",
              "            title=\"Convert this dataframe to an interactive table.\"\n",
              "            style=\"display:none;\">\n",
              "\n",
              "  <svg xmlns=\"http://www.w3.org/2000/svg\" height=\"24px\" viewBox=\"0 -960 960 960\">\n",
              "    <path d=\"M120-120v-720h720v720H120Zm60-500h600v-160H180v160Zm220 220h160v-160H400v160Zm0 220h160v-160H400v160ZM180-400h160v-160H180v160Zm440 0h160v-160H620v160ZM180-180h160v-160H180v160Zm440 0h160v-160H620v160Z\"/>\n",
              "  </svg>\n",
              "    </button>\n",
              "\n",
              "  <style>\n",
              "    .colab-df-container {\n",
              "      display:flex;\n",
              "      gap: 12px;\n",
              "    }\n",
              "\n",
              "    .colab-df-convert {\n",
              "      background-color: #E8F0FE;\n",
              "      border: none;\n",
              "      border-radius: 50%;\n",
              "      cursor: pointer;\n",
              "      display: none;\n",
              "      fill: #1967D2;\n",
              "      height: 32px;\n",
              "      padding: 0 0 0 0;\n",
              "      width: 32px;\n",
              "    }\n",
              "\n",
              "    .colab-df-convert:hover {\n",
              "      background-color: #E2EBFA;\n",
              "      box-shadow: 0px 1px 2px rgba(60, 64, 67, 0.3), 0px 1px 3px 1px rgba(60, 64, 67, 0.15);\n",
              "      fill: #174EA6;\n",
              "    }\n",
              "\n",
              "    .colab-df-buttons div {\n",
              "      margin-bottom: 4px;\n",
              "    }\n",
              "\n",
              "    [theme=dark] .colab-df-convert {\n",
              "      background-color: #3B4455;\n",
              "      fill: #D2E3FC;\n",
              "    }\n",
              "\n",
              "    [theme=dark] .colab-df-convert:hover {\n",
              "      background-color: #434B5C;\n",
              "      box-shadow: 0px 1px 3px 1px rgba(0, 0, 0, 0.15);\n",
              "      filter: drop-shadow(0px 1px 2px rgba(0, 0, 0, 0.3));\n",
              "      fill: #FFFFFF;\n",
              "    }\n",
              "  </style>\n",
              "\n",
              "    <script>\n",
              "      const buttonEl =\n",
              "        document.querySelector('#df-e93af268-8dab-4e3a-91cc-f96b1f2a6f8e button.colab-df-convert');\n",
              "      buttonEl.style.display =\n",
              "        google.colab.kernel.accessAllowed ? 'block' : 'none';\n",
              "\n",
              "      async function convertToInteractive(key) {\n",
              "        const element = document.querySelector('#df-e93af268-8dab-4e3a-91cc-f96b1f2a6f8e');\n",
              "        const dataTable =\n",
              "          await google.colab.kernel.invokeFunction('convertToInteractive',\n",
              "                                                    [key], {});\n",
              "        if (!dataTable) return;\n",
              "\n",
              "        const docLinkHtml = 'Like what you see? Visit the ' +\n",
              "          '<a target=\"_blank\" href=https://colab.research.google.com/notebooks/data_table.ipynb>data table notebook</a>'\n",
              "          + ' to learn more about interactive tables.';\n",
              "        element.innerHTML = '';\n",
              "        dataTable['output_type'] = 'display_data';\n",
              "        await google.colab.output.renderOutput(dataTable, element);\n",
              "        const docLink = document.createElement('div');\n",
              "        docLink.innerHTML = docLinkHtml;\n",
              "        element.appendChild(docLink);\n",
              "      }\n",
              "    </script>\n",
              "  </div>\n",
              "\n",
              "\n",
              "    <div id=\"df-1057b1d6-9e88-4f27-95bb-aa21dbb0d6f8\">\n",
              "      <button class=\"colab-df-quickchart\" onclick=\"quickchart('df-1057b1d6-9e88-4f27-95bb-aa21dbb0d6f8')\"\n",
              "                title=\"Suggest charts\"\n",
              "                style=\"display:none;\">\n",
              "\n",
              "<svg xmlns=\"http://www.w3.org/2000/svg\" height=\"24px\"viewBox=\"0 0 24 24\"\n",
              "     width=\"24px\">\n",
              "    <g>\n",
              "        <path d=\"M19 3H5c-1.1 0-2 .9-2 2v14c0 1.1.9 2 2 2h14c1.1 0 2-.9 2-2V5c0-1.1-.9-2-2-2zM9 17H7v-7h2v7zm4 0h-2V7h2v10zm4 0h-2v-4h2v4z\"/>\n",
              "    </g>\n",
              "</svg>\n",
              "      </button>\n",
              "\n",
              "<style>\n",
              "  .colab-df-quickchart {\n",
              "      --bg-color: #E8F0FE;\n",
              "      --fill-color: #1967D2;\n",
              "      --hover-bg-color: #E2EBFA;\n",
              "      --hover-fill-color: #174EA6;\n",
              "      --disabled-fill-color: #AAA;\n",
              "      --disabled-bg-color: #DDD;\n",
              "  }\n",
              "\n",
              "  [theme=dark] .colab-df-quickchart {\n",
              "      --bg-color: #3B4455;\n",
              "      --fill-color: #D2E3FC;\n",
              "      --hover-bg-color: #434B5C;\n",
              "      --hover-fill-color: #FFFFFF;\n",
              "      --disabled-bg-color: #3B4455;\n",
              "      --disabled-fill-color: #666;\n",
              "  }\n",
              "\n",
              "  .colab-df-quickchart {\n",
              "    background-color: var(--bg-color);\n",
              "    border: none;\n",
              "    border-radius: 50%;\n",
              "    cursor: pointer;\n",
              "    display: none;\n",
              "    fill: var(--fill-color);\n",
              "    height: 32px;\n",
              "    padding: 0;\n",
              "    width: 32px;\n",
              "  }\n",
              "\n",
              "  .colab-df-quickchart:hover {\n",
              "    background-color: var(--hover-bg-color);\n",
              "    box-shadow: 0 1px 2px rgba(60, 64, 67, 0.3), 0 1px 3px 1px rgba(60, 64, 67, 0.15);\n",
              "    fill: var(--button-hover-fill-color);\n",
              "  }\n",
              "\n",
              "  .colab-df-quickchart-complete:disabled,\n",
              "  .colab-df-quickchart-complete:disabled:hover {\n",
              "    background-color: var(--disabled-bg-color);\n",
              "    fill: var(--disabled-fill-color);\n",
              "    box-shadow: none;\n",
              "  }\n",
              "\n",
              "  .colab-df-spinner {\n",
              "    border: 2px solid var(--fill-color);\n",
              "    border-color: transparent;\n",
              "    border-bottom-color: var(--fill-color);\n",
              "    animation:\n",
              "      spin 1s steps(1) infinite;\n",
              "  }\n",
              "\n",
              "  @keyframes spin {\n",
              "    0% {\n",
              "      border-color: transparent;\n",
              "      border-bottom-color: var(--fill-color);\n",
              "      border-left-color: var(--fill-color);\n",
              "    }\n",
              "    20% {\n",
              "      border-color: transparent;\n",
              "      border-left-color: var(--fill-color);\n",
              "      border-top-color: var(--fill-color);\n",
              "    }\n",
              "    30% {\n",
              "      border-color: transparent;\n",
              "      border-left-color: var(--fill-color);\n",
              "      border-top-color: var(--fill-color);\n",
              "      border-right-color: var(--fill-color);\n",
              "    }\n",
              "    40% {\n",
              "      border-color: transparent;\n",
              "      border-right-color: var(--fill-color);\n",
              "      border-top-color: var(--fill-color);\n",
              "    }\n",
              "    60% {\n",
              "      border-color: transparent;\n",
              "      border-right-color: var(--fill-color);\n",
              "    }\n",
              "    80% {\n",
              "      border-color: transparent;\n",
              "      border-right-color: var(--fill-color);\n",
              "      border-bottom-color: var(--fill-color);\n",
              "    }\n",
              "    90% {\n",
              "      border-color: transparent;\n",
              "      border-bottom-color: var(--fill-color);\n",
              "    }\n",
              "  }\n",
              "</style>\n",
              "\n",
              "      <script>\n",
              "        async function quickchart(key) {\n",
              "          const quickchartButtonEl =\n",
              "            document.querySelector('#' + key + ' button');\n",
              "          quickchartButtonEl.disabled = true;  // To prevent multiple clicks.\n",
              "          quickchartButtonEl.classList.add('colab-df-spinner');\n",
              "          try {\n",
              "            const charts = await google.colab.kernel.invokeFunction(\n",
              "                'suggestCharts', [key], {});\n",
              "          } catch (error) {\n",
              "            console.error('Error during call to suggestCharts:', error);\n",
              "          }\n",
              "          quickchartButtonEl.classList.remove('colab-df-spinner');\n",
              "          quickchartButtonEl.classList.add('colab-df-quickchart-complete');\n",
              "        }\n",
              "        (() => {\n",
              "          let quickchartButtonEl =\n",
              "            document.querySelector('#df-1057b1d6-9e88-4f27-95bb-aa21dbb0d6f8 button');\n",
              "          quickchartButtonEl.style.display =\n",
              "            google.colab.kernel.accessAllowed ? 'block' : 'none';\n",
              "        })();\n",
              "      </script>\n",
              "    </div>\n",
              "    </div>\n",
              "  </div>\n"
            ],
            "application/vnd.google.colaboratory.intrinsic+json": {
              "type": "dataframe",
              "variable_name": "df",
              "summary": "{\n  \"name\": \"df\",\n  \"rows\": 18107,\n  \"fields\": [\n    {\n      \"column\": \"date\",\n      \"properties\": {\n        \"dtype\": \"object\",\n        \"num_unique_values\": 17246,\n        \"samples\": [\n          \"2023-04-08 12:24:00\",\n          \"2023-09-19 12:40:00\",\n          \"2023-10-20 07:35:00\"\n        ],\n        \"semantic_type\": \"\",\n        \"description\": \"\"\n      }\n    },\n    {\n      \"column\": \"post_url\",\n      \"properties\": {\n        \"dtype\": \"string\",\n        \"num_unique_values\": 18107,\n        \"samples\": [\n          \"https://t.me/bcs_express/15622/?embed=1&mode=tme\",\n          \"https://t.me/cbrstocks/50862/?embed=1&mode=tme\",\n          \"https://t.me/bcs_express/15865/?embed=1&mode=tme\"\n        ],\n        \"semantic_type\": \"\",\n        \"description\": \"\"\n      }\n    },\n    {\n      \"column\": \"text\",\n      \"properties\": {\n        \"dtype\": \"string\",\n        \"num_unique_values\": 18107,\n        \"samples\": [\n          \" \\u041a\\u043e\\u043c\\u043f\\u0430\\u043d\\u0438\\u044f Henderson \\u043e\\u0431\\u044a\\u044f\\u0432\\u0438\\u043b\\u0430 \\u0446\\u0435\\u043d\\u0443 \\u0430\\u043a\\u0446\\u0438\\u0439 \\u0432 \\u0445\\u043e\\u0434\\u0435 IPO  \\n  \\n\\u0412 \\u0447\\u0435\\u0442\\u0432\\u0435\\u0440\\u0433, 2 \\u043d\\u043e\\u044f\\u0431\\u0440\\u044f, \\u043a\\u043e\\u043c\\u043f\\u0430\\u043d\\u0438\\u044f Henderson \\u043e\\u0431\\u044a\\u044f\\u0432\\u0438\\u043b\\u0430, \\u0447\\u0442\\u043e \\u0432 \\u0445\\u043e\\u0434\\u0435 IPO \\u043d\\u0430 \\u041c\\u043e\\u0441\\u0431\\u0438\\u0440\\u0436\\u0435 \\u043f\\u0440\\u0438\\u0432\\u043b\\u0435\\u043a\\u043b\\u0430 3,8 \\u043c\\u043b\\u0440\\u0434 \\u0440\\u0443\\u0431.   \\n  \\n\\u0412 \\u0434\\u0435\\u0442\\u0430\\u043b\\u044f\\u0445  \\n  \\n\\u2022 \\u0411\\u044b\\u043b\\u043e \\u0440\\u0430\\u0437\\u043c\\u0435\\u0449\\u0435\\u043d\\u043e 9 \\u043c\\u043b\\u043d \\u0430\\u043a\\u0446\\u0438\\u0439 \\u043f\\u043e \\u043c\\u0430\\u043a\\u0441\\u0438\\u043c\\u0430\\u043b\\u044c\\u043d\\u043e\\u0439 \\u0446\\u0435\\u043d\\u0435 675 \\u0440\\u0443\\u0431. \\u041a\\u0430\\u043f\\u0438\\u0442\\u0430\\u043b\\u0438\\u0437\\u0430\\u0446\\u0438\\u044f \\u043a\\u043e\\u043c\\u043f\\u0430\\u043d\\u0438\\u0438 \\u0441\\u043e\\u0441\\u0442\\u0430\\u0432\\u0438\\u043b\\u0430 27,3 \\u043c\\u043b\\u0440\\u0434 \\u0440\\u0443\\u0431.  \\n  \\n\\u2022 \\u0412 \\u0445\\u043e\\u0434\\u0435 IPO \\u043a\\u043e\\u043c\\u043f\\u0430\\u043d\\u0438\\u044f \\u043f\\u0440\\u0438\\u0432\\u043b\\u0435\\u043a\\u043b\\u0430 \\u0431\\u043e\\u043b\\u0435\\u0435 40 \\u0442\\u044b\\u0441. \\u043d\\u043e\\u0432\\u044b\\u0445 \\u0438\\u043d\\u0432\\u0435\\u0441\\u0442\\u043e\\u0440\\u043e\\u0432 \\u0432 \\u0441\\u0442\\u0440\\u0443\\u043a\\u0442\\u0443\\u0440\\u0443 \\u0430\\u043a\\u0446\\u0438\\u043e\\u043d\\u0435\\u0440\\u043d\\u043e\\u0433\\u043e \\u043a\\u0430\\u043f\\u0438\\u0442\\u0430\\u043b\\u0430. \\u0410\\u043a\\u0446\\u0438\\u0439 \\u0432 \\u0441\\u0432\\u043e\\u0431\\u043e\\u0434\\u043d\\u043e\\u043c \\u0440\\u0430\\u0437\\u043c\\u0435\\u0449\\u0435\\u043d\\u0438\\u0435 \\u043f\\u043e \\u0438\\u0442\\u043e\\u0433\\u0430\\u043c IPO \\u2014 13,9%.  \\n  \\n\\u2022 \\u0412 \\u0447\\u0435\\u0442\\u0432\\u0435\\u0440\\u0433, \\u043f\\u043e\\u0441\\u043b\\u0435 16:00 \\u041c\\u0421\\u041a, \\u043d\\u0430 \\u0430\\u043a\\u0446\\u0438\\u0438 \\u043d\\u0430\\u0447\\u043d\\u0443\\u0442 \\u0442\\u043e\\u0440\\u0433\\u043e\\u0432\\u0430\\u0442\\u044c\\u0441\\u044f \\u043d\\u0430 \\u041c\\u043e\\u0441\\u0431\\u0438\\u0440\\u0436\\u0435 \\u043f\\u043e\\u0434 \\u0442\\u0438\\u043a\\u0435\\u0440\\u043e\\u043c HNFG  \\n  \\n\\u2022 \\u0413\\u0440\\u0443\\u043f\\u043f\\u0430 \\u043d\\u0430\\u043c\\u0435\\u0440\\u0435\\u043d\\u0430 \\u043d\\u0430\\u043f\\u0440\\u0430\\u0432\\u0438\\u0442\\u044c \\u043f\\u0440\\u0438\\u0432\\u043b\\u0435\\u0447\\u0435\\u043d\\u043d\\u044b\\u0435 \\u0432 \\u0445\\u043e\\u0434\\u0435 IPO \\u0441\\u0440\\u0435\\u0434\\u0441\\u0442\\u0432\\u0430 \\u043d\\u0430 \\u0444\\u0438\\u043d\\u0430\\u043d\\u0441\\u0438\\u0440\\u043e\\u0432\\u0430\\u043d\\u0438\\u0435 \\u0441\\u0442\\u0440\\u0430\\u0442\\u0435\\u0433\\u0438\\u0438 \\u0434\\u0430\\u043b\\u044c\\u043d\\u0435\\u0439\\u0448\\u0435\\u0433\\u043e \\u0440\\u043e\\u0441\\u0442\\u0430.  \\n  \\n\\u041e \\u043a\\u043e\\u043c\\u043f\\u0430\\u043d\\u0438\\u0438  \\n  \\n\\u041c\\u0430\\u0433\\u0430\\u0437\\u0438\\u043d\\u044b \\u043c\\u0443\\u0436\\u0441\\u043a\\u043e\\u0439 \\u043e\\u0434\\u0435\\u0436\\u0434\\u044b Henderson \\u043d\\u0430\\u0447\\u0430\\u043b\\u0438 \\u0440\\u0430\\u0431\\u043e\\u0442\\u0430\\u0442\\u044c \\u0432 \\u0420\\u043e\\u0441\\u0441\\u0438\\u0438 \\u0441 1998 \\u0433. \\u0421\\u0435\\u0433\\u043e\\u0434\\u043d\\u044f \\u0441\\u0435\\u0442\\u044c \\u043d\\u0430\\u0441\\u0447\\u0438\\u0442\\u044b\\u0432\\u0430\\u0435\\u0442 159 \\u043c\\u0430\\u0433\\u0430\\u0437\\u0438\\u043d\\u043e\\u0432 \\u0441 \\u043e\\u0431\\u0449\\u0435\\u0439 \\u043f\\u043b\\u043e\\u0449\\u0430\\u0434\\u044c\\u044e 42,8 \\u0442\\u044b\\u0441. \\u043a\\u0432. \\u043c. \\u0412 \\u043c\\u0430\\u0433\\u0430\\u0437\\u0438\\u043d\\u0430\\u0445 \\u043f\\u0440\\u043e\\u0434\\u0430\\u0435\\u0442\\u0441\\u044f \\u043c\\u0443\\u0436\\u0441\\u043a\\u0430\\u044f \\u043e\\u0434\\u0435\\u0436\\u0434\\u0430, \\u043e\\u0431\\u0443\\u0432\\u044c \\u0438 \\u0430\\u043a\\u0441\\u0435\\u0441\\u0441\\u0443\\u0430\\u0440\\u044b, \\u0435\\u0441\\u0442\\u044c \\u0443\\u0441\\u043b\\u0443\\u0433\\u0438 \\u043f\\u043e\\u0448\\u0438\\u0432\\u0430 \\u043d\\u0430 \\u0437\\u0430\\u043a\\u0430\\u0437.  \\n  \\n\\u0412 \\u0438\\u043d\\u0442\\u0435\\u0440\\u0432\\u044c\\u044e \\u043f\\u0435\\u0440\\u0435\\u0434 IPO \\u0440\\u0443\\u043a\\u043e\\u0432\\u043e\\u0434\\u0441\\u0442\\u0432\\u043e \\u043a\\u043e\\u043c\\u043f\\u0430\\u043d\\u0438\\u0438 \\u0437\\u0430\\u044f\\u0432\\u0438\\u043b\\u043e, \\u0447\\u0442\\u043e \\u043f\\u043b\\u0430\\u043d\\u0438\\u0440\\u0443\\u0435\\u0442 \\u0432 \\u0431\\u043b\\u0438\\u0436\\u0430\\u0439\\u0448\\u0438\\u0435 \\u043d\\u0435\\u0441\\u043a\\u043e\\u043b\\u044c\\u043a\\u043e \\u043b\\u0435\\u0442 \\u043f\\u0435\\u0440\\u0435\\u0444\\u043e\\u0440\\u043c\\u0430\\u0442\\u0438\\u0440\\u043e\\u0432\\u0430\\u0442\\u044c \\u0434\\u043e 90 \\u0441\\u0432\\u043e\\u0438\\u0445 \\u0441\\u0430\\u043b\\u043e\\u043d\\u043e\\u0432. \\u041e\\u0436\\u0438\\u0434\\u0430\\u0435\\u0442\\u0441\\u044f \\u0443\\u0432\\u0435\\u043b\\u0438\\u0447\\u0435\\u043d\\u0438\\u0435 \\u043f\\u043b\\u043e\\u0449\\u0430\\u0434\\u0438 \\u043c\\u0430\\u0433\\u0430\\u0437\\u0438\\u043d\\u043e\\u0432. \\u0412 \\u0441\\u0442\\u0440\\u0430\\u0442\\u0435\\u0433\\u0438\\u044e \\u0432\\u0445\\u043e\\u0434\\u0438\\u0442 \\u0437\\u0430\\u043a\\u0440\\u044b\\u0442\\u0438\\u0435 \\u0441\\u0430\\u043b\\u043e\\u043d\\u043e\\u0432 \\u0434\\u043e 200 \\u043c2 \\u0438 \\u043e\\u0442\\u043a\\u0440\\u044b\\u0442\\u0438\\u0435 \\u0432 \\u0442\\u0435\\u0445 \\u0436\\u0435 \\u0442\\u043e\\u0447\\u043a\\u0430\\u0445 \\u0442\\u043e\\u0447\\u043a\\u0438 \\u0434\\u043e 700 \\u043c2.   \\n  \\n\\u0415\\u0449\\u0435 \\u043e\\u0441\\u043d\\u043e\\u0432\\u0430\\u0442\\u0435\\u043b\\u044c \\u043a\\u043e\\u043c\\u043f\\u0430\\u043d\\u0438\\u0438 \\u0440\\u0430\\u0441\\u0441\\u043a\\u0430\\u0437\\u0430\\u043b \\u043e \\u043f\\u0440\\u0438\\u043e\\u0431\\u0440\\u0435\\u0442\\u0435\\u043d\\u0438\\u0435 \\u0437\\u0435\\u043c\\u043b\\u0438 \\u0434\\u043b\\u044f \\u043b\\u043e\\u0433\\u0438\\u0441\\u0442\\u0438\\u0447\\u0435\\u0441\\u043a\\u043e\\u0433\\u043e \\u0446\\u0435\\u043d\\u0442\\u0440\\u0430 \\u043d\\u0435\\u0434\\u0430\\u043b\\u0435\\u043a\\u043e \\u043e\\u0442 \\u0430\\u044d\\u0440\\u043e\\u043f\\u043e\\u0440\\u0442\\u0430 \\u0428\\u0435\\u0440\\u0435\\u043c\\u0435\\u0442\\u044c\\u0435\\u0432\\u043e. \\u041e\\u043d \\u043d\\u0435\\u043e\\u0431\\u0445\\u043e\\u0434\\u0438\\u043c \\u0434\\u043b\\u044f \\u043f\\u043e\\u0434\\u0434\\u0435\\u0440\\u0436\\u043a\\u0438 \\u0440\\u043e\\u0441\\u0442\\u0430 \\u043a\\u043e\\u043c\\u043f\\u0430\\u043d\\u0438\\u0438, \\u0430 \\u043e\\u0442\\u043a\\u0440\\u044b\\u0442\\u0438\\u0435 \\u043e\\u0431\\u044a\\u0435\\u043c\\u0430 \\u043d\\u0430\\u043c\\u0435\\u0447\\u0435\\u043d\\u043e \\u043d\\u0430 \\u0441\\u0435\\u0440\\u0435\\u0434\\u0438\\u043d\\u0443 2025 \\u0433.   \\n  \\n\\u0427\\u0438\\u0442\\u0430\\u0439\\u0442\\u0435 \\u0442\\u0430\\u043a\\u0436\\u0435: Henderson. \\u041e\\u0431\\u0437\\u043e\\u0440 \\u043f\\u0435\\u0440\\u0435\\u0434 IPO\\n\",\n          \"#\\u041f\\u043e\\u043b\\u0438\\u0442\\u0438\\u043a\\u0430  \\n \\u041c\\u044d\\u0440 \\u041c\\u043e\\u0441\\u043a\\u0432\\u044b \\u0421\\u043e\\u0431\\u044f\\u043d\\u0438\\u043d \\u043d\\u0430\\u0437\\u0432\\u0430\\u043b \\u0441\\u0438\\u0442\\u0443\\u0430\\u0446\\u0438\\u044e \\u0441\\u043b\\u043e\\u0436\\u043d\\u043e\\u0439, \\u0437\\u0430\\u044f\\u0432\\u0438\\u043b, \\u0447\\u0442\\u043e \\u043f\\u0440\\u0438\\u043d\\u044f\\u043b \\u0440\\u0435\\u0448\\u0435\\u043d\\u0438\\u0435 \\u043e\\u0431\\u044a\\u044f\\u0432\\u0438\\u0442\\u044c \\u0432 \\u041c\\u043e\\u0441\\u043a\\u0432\\u0435 \\u043f\\u043e\\u043d\\u0435\\u0434\\u0435\\u043b\\u044c\\u043d\\u0438\\u043a \\u043d\\u0435\\u0440\\u0430\\u0431\\u043e\\u0447\\u0438\\u043c \\u0434\\u043d\\u0435\\u043c \\\\- \\u0437\\u0430 \\u0438\\u0441\\u043a\\u043b\\u044e\\u0447\\u0435\\u043d\\u0438\\u0435\\u043c \\u043e\\u0440\\u0433\\u0430\\u043d\\u043e\\u0432 \\u0432\\u043b\\u0430\\u0441\\u0442\\u0438 \\u0438 \\u043f\\u0440\\u0435\\u0434\\u043f\\u0440\\u0438\\u044f\\u0442\\u0438\\u0439 \\u043d\\u0435\\u043f\\u0440\\u0435\\u0440\\u044b\\u0432\\u043d\\u043e\\u0433\\u043e \\u0446\\u0438\\u043a\\u043b\\u0430, \\u043e\\u0431\\u043e\\u0440\\u043e\\u043d\\u043a\\u0438, \\u0433\\u043e\\u0440\\u043e\\u0434\\u0441\\u043a\\u0438\\u0445 \\u0441\\u043b\\u0443\\u0436\\u0431\\n\",\n          \" \\u041c\\u0435\\u0447\\u0435\\u043b \\u043e\\u0442\\u0447\\u0438\\u0442\\u0430\\u043b\\u0441\\u044f \\u0437\\u0430 III \\u043a\\u0432\\u0430\\u0440\\u0442\\u0430\\u043b  \\n  \\n\\u041c\\u0435\\u0447\\u0435\\u043b \\u043e\\u043f\\u0443\\u0431\\u043b\\u0438\\u043a\\u043e\\u0432\\u0430\\u043b \\u043e\\u043f\\u0435\\u0440\\u0430\\u0446\\u0438\\u043e\\u043d\\u043d\\u044b\\u0435 \\u0440\\u0435\\u0437\\u0443\\u043b\\u044c\\u0442\\u0430\\u0442\\u044b \\u0437\\u0430 III \\u043a\\u0432\\u0430\\u0440\\u0442\\u0430\\u043b 2023 \\u0433.  \\n  \\n- \\u0414\\u043e\\u0431\\u044b\\u0447\\u0430 \\u0443\\u0433\\u043b\\u044f: 2852 \\u0442\\u044b\\u0441. \\u0442\\u043e\\u043d\\u043d (+17% \\u043a\\u0432\\u0430\\u0440\\u0442\\u0430\\u043b \\u043a \\u043a\\u0432\\u0430\\u0440\\u0442\\u0430\\u043b\\u0443)  \\n- \\u041f\\u0440\\u043e\\u0438\\u0437\\u0432\\u043e\\u0434\\u0441\\u0442\\u0432\\u043e \\u0441\\u0442\\u0430\\u043b\\u0438: 838 \\u0442\\u044b\\u0441. \\u0442\\u043e\\u043d\\u043d (-5% \\u043a\\u0432\\u0430\\u0440\\u0442\\u0430\\u043b \\u043a \\u043a\\u0432\\u0430\\u0440\\u0442\\u0430\\u043b\\u0443)  \\n- \\u041f\\u0440\\u043e\\u0434\\u0430\\u0436\\u0438 \\u043a\\u043e\\u043a\\u0441\\u0443\\u044e\\u0449\\u0435\\u0433\\u043e\\u0441\\u044f \\u0443\\u0433\\u043b\\u044f: 1001 \\u0442\\u044b\\u0441. \\u0442\\u043e\\u043d\\u043d (+43% \\u043a\\u0432\\u0430\\u0440\\u0442\\u0430\\u043b \\u043a \\u043a\\u0432\\u0430\\u0440\\u0442\\u0430\\u043b\\u0443)  \\n- \\u041f\\u0440\\u043e\\u0434\\u0430\\u0436\\u0438 \\u0443\\u0433\\u043b\\u0435\\u0439 PCI: 315 \\u0442\\u044b\\u0441. \\u0442\\u043e\\u043d\\u043d (-18% \\u043a\\u0432\\u0430\\u0440\\u0442\\u0430\\u043b \\u043a \\u043a\\u0432\\u0430\\u0440\\u0442\\u0430\\u043b\\u0443)  \\n  \\n\\u0412\\u0437\\u0433\\u043b\\u044f\\u0434 \\u0411\\u041a\\u0421: \\u041f\\u0440\\u043e\\u0434\\u0430\\u0436\\u0438 \\u043a\\u043e\\u043a\\u0441\\u0443\\u044e\\u0449\\u0435\\u0433\\u043e\\u0441\\u044f \\u0443\\u0433\\u043b\\u044f \\u0432\\u0437\\u043b\\u0435\\u0442\\u0435\\u043b\\u0438 \\u043d\\u0430 43% \\u0437\\u0430 \\u043a\\u0432\\u0430\\u0440\\u0442\\u0430\\u043b, \\u0441\\u0442\\u0430\\u043b\\u044c\\u043d\\u043e\\u0439 \\u043f\\u0440\\u043e\\u0434\\u0443\\u043a\\u0446\\u0438\\u0438 \\u043e\\u0436\\u0438\\u0434\\u0430\\u0435\\u043c\\u043e \\u0441\\u043d\\u0438\\u0437\\u0438\\u043b\\u0438\\u0441\\u044c \\u043d\\u0430 4% \\u043d\\u0430 \\u0444\\u043e\\u043d\\u0435 \\u0440\\u0435\\u043c\\u043e\\u043d\\u0442\\u043d\\u044b\\u0445 \\u0440\\u0430\\u0431\\u043e\\u0442. \\u041e\\u0442\\u0447\\u0435\\u0442 \\u0441\\u0447\\u0438\\u0442\\u0430\\u0435\\u043c \\u043f\\u043e\\u0437\\u0438\\u0442\\u0438\\u0432\\u043d\\u044b\\u043c, \\u043a\\u043e\\u043c\\u043f\\u0430\\u043d\\u0438\\u044f \\u043f\\u0440\\u0430\\u043a\\u0442\\u0438\\u0447\\u0435\\u0441\\u043a\\u0438 \\u043f\\u043e\\u043b\\u043d\\u043e\\u0441\\u0442\\u044c\\u044e \\u0432\\u043e\\u0441\\u0441\\u0442\\u0430\\u043d\\u043e\\u0432\\u0438\\u043b\\u0430 \\u043f\\u0440\\u043e\\u0434\\u0430\\u0436\\u0438 \\u043a\\u043e\\u043a\\u0441\\u0443\\u044e\\u0449\\u0435\\u0433\\u043e\\u0441\\u044f \\u0443\\u0433\\u043b\\u044f.  \\n  \\n\\u0413\\u0435\\u043d\\u0435\\u0440\\u0430\\u043b\\u044c\\u043d\\u044b\\u0439 \\u0434\\u0438\\u0440\\u0435\\u043a\\u0442\\u043e\\u0440 \\u041c\\u0435\\u0447\\u0435\\u043b\\u0430 \\u041e\\u043b\\u0435\\u0433 \\u041a\\u043e\\u0440\\u0436\\u043e\\u0432, \\u043e\\u0442\\u043c\\u0435\\u0442\\u0438\\u043b:  \\n  \\n\\u0412 III \\u043a\\u0432\\u0430\\u0440\\u0442\\u0430\\u043b\\u0435 \\u0440\\u043e\\u0441\\u0442 \\u0434\\u043e\\u0431\\u044b\\u0447\\u0438 \\u0443\\u0433\\u043b\\u044f \\u0441\\u043e\\u0441\\u0442\\u0430\\u0432\\u0438\\u043b 17% \\u043f\\u043e \\u043e\\u0442\\u043d\\u043e\\u0448\\u0435\\u043d\\u0438\\u044e \\u043a \\u043f\\u0440\\u0435\\u0434\\u044b\\u0434\\u0443\\u0449\\u0435\\u043c\\u0443 \\u043a\\u0432\\u0430\\u0440\\u0442\\u0430\\u043b\\u0443. \\u041f\\u043e\\u0441\\u043b\\u0435\\u0434\\u043e\\u0432\\u0430\\u0442\\u0435\\u043b\\u044c\\u043d\\u043e\\u0435 \\u0432\\u044b\\u043f\\u043e\\u043b\\u043d\\u0435\\u043d\\u0438\\u0435 \\u043f\\u0440\\u043e\\u0433\\u0440\\u0430\\u043c\\u043c\\u044b \\u0442\\u0435\\u0445\\u043d\\u0438\\u0447\\u0435\\u0441\\u043a\\u043e\\u0433\\u043e \\u043f\\u0435\\u0440\\u0435\\u0432\\u043e\\u043e\\u0440\\u0443\\u0436\\u0435\\u043d\\u0438\\u044f \\u0438 \\u043f\\u043e\\u0441\\u0442\\u043e\\u044f\\u043d\\u043d\\u0430\\u044f \\u0440\\u0430\\u0431\\u043e\\u0442\\u0430, \\u043a\\u043e\\u0442\\u043e\\u0440\\u0430\\u044f \\u043f\\u0440\\u043e\\u0432\\u043e\\u0434\\u0438\\u0442\\u0441\\u044f \\u0432 \\u0447\\u0430\\u0441\\u0442\\u0438 \\u043f\\u043e\\u0432\\u044b\\u0448\\u0435\\u043d\\u0438\\u044f \\u043e\\u043f\\u0435\\u0440\\u0430\\u0446\\u0438\\u043e\\u043d\\u043d\\u043e\\u0439 \\u044d\\u0444\\u0444\\u0435\\u043a\\u0442\\u0438\\u0432\\u043d\\u043e\\u0441\\u0442\\u0438 \\u0443\\u0433\\u043e\\u043b\\u044c\\u043d\\u044b\\u0445 \\u043f\\u0440\\u0435\\u0434\\u043f\\u0440\\u0438\\u044f\\u0442\\u0438\\u0439 \\u00ab\\u041c\\u0435\\u0447\\u0435\\u043b\\u0430\\u00bb, \\u043f\\u043e\\u0437\\u0432\\u043e\\u043b\\u0438\\u043b\\u0430 \\u0437\\u0430\\u0432\\u0435\\u0440\\u0448\\u0438\\u0442\\u044c \\u043e\\u0442\\u0447\\u0435\\u0442\\u043d\\u044b\\u0439 \\u043f\\u0435\\u0440\\u0438\\u043e\\u0434 \\u0441 \\u043f\\u043e\\u043b\\u043e\\u0436\\u0438\\u0442\\u0435\\u043b\\u044c\\u043d\\u043e\\u0439 \\u043f\\u0440\\u043e\\u0438\\u0437\\u0432\\u043e\\u0434\\u0441\\u0442\\u0432\\u0435\\u043d\\u043d\\u043e\\u0439 \\u0434\\u0438\\u043d\\u0430\\u043c\\u0438\\u043a\\u043e\\u0439 \\u0438 \\u0441\\u0443\\u0449\\u0435\\u0441\\u0442\\u0432\\u0435\\u043d\\u043d\\u044b\\u043c \\u0440\\u043e\\u0441\\u0442\\u043e\\u043c \\u043f\\u043e\\u043a\\u0430\\u0437\\u0430\\u0442\\u0435\\u043b\\u044f \\u043f\\u0440\\u043e\\u0434\\u0430\\u0436 \\u043e\\u0441\\u043d\\u043e\\u0432\\u043d\\u043e\\u0439 \\u043f\\u0440\\u043e\\u0434\\u0443\\u043a\\u0446\\u0438\\u0438 \\u2014 \\u043a\\u043e\\u043d\\u0446\\u0435\\u043d\\u0442\\u0440\\u0430\\u0442\\u0430 \\u043a\\u043e\\u043a\\u0441\\u0443\\u044e\\u0449\\u0435\\u0433\\u043e\\u0441\\u044f \\u0443\\u0433\\u043b\\u044f (\\u041a\\u041a\\u0423).  \\n  \\n\\u0420\\u0435\\u0430\\u043b\\u0438\\u0437\\u0430\\u0446\\u0438\\u044f \\u041a\\u041a\\u0423 \\u0432 III \\u043a\\u0432\\u0430\\u0440\\u0442\\u0430\\u043b\\u0435 \\u0432 \\u0446\\u0435\\u043b\\u043e\\u043c \\u0443\\u0432\\u0435\\u043b\\u0438\\u0447\\u0438\\u043b\\u0430\\u0441\\u044c \\u043d\\u0430 43%, \\u0432 \\u0430\\u0434\\u0440\\u0435\\u0441 \\u0442\\u0440\\u0435\\u0442\\u044c\\u0438\\u0445 \\u043b\\u0438\\u0446 \\u2014 \\u043d\\u0430 139%. \\u0420\\u043e\\u0441\\u0442 \\u043f\\u0440\\u043e\\u0434\\u0435\\u043c\\u043e\\u043d\\u0441\\u0442\\u0440\\u0438\\u0440\\u043e\\u0432\\u0430\\u043b\\u0438 \\u043a\\u0430\\u043a \\u044d\\u043a\\u0441\\u043f\\u043e\\u0440\\u0442\\u043d\\u044b\\u0435, \\u0442\\u0430\\u043a \\u0438 \\u0432\\u043d\\u0443\\u0442\\u0440\\u0435\\u043d\\u043d\\u0438\\u0435 \\u043f\\u0440\\u043e\\u0434\\u0430\\u0436\\u0438, \\u043f\\u0440\\u0438 \\u044d\\u0442\\u043e\\u043c \\u043d\\u0430 \\u0440\\u043e\\u0441\\u0441\\u0438\\u0439\\u0441\\u043a\\u043e\\u043c \\u0440\\u044b\\u043d\\u043a\\u0435 \\u0434\\u0430\\u043d\\u043d\\u044b\\u0439 \\u043f\\u043e\\u043a\\u0430\\u0437\\u0430\\u0442\\u0435\\u043b\\u044c \\u0432\\u044b\\u0440\\u043e\\u0441 \\u043f\\u043e\\u0447\\u0442\\u0438 \\u0432 2,5 \\u0440\\u0430\\u0437\\u0430.  \\n  \\n\\u0421\\u043d\\u0438\\u0436\\u0435\\u043d\\u0438\\u0435 \\u043f\\u0440\\u043e\\u0434\\u0430\\u0436 \\u043f\\u044b\\u043b\\u0435\\u0443\\u0433\\u043e\\u043b\\u044c\\u043d\\u043e\\u0433\\u043e \\u0442\\u043e\\u043f\\u043b\\u0438\\u0432\\u0430 (PCI) \\u043d\\u0430 18% \\u043a\\u0432\\u0430\\u0440\\u0442\\u0430\\u043b \\u043a \\u043a\\u0432\\u0430\\u0440\\u0442\\u0430\\u043b\\u0443 \\u043e\\u0431\\u0443\\u0441\\u043b\\u043e\\u0432\\u043b\\u0435\\u043d\\u043e \\u043f\\u0435\\u0440\\u0435\\u043d\\u043e\\u0441\\u043e\\u043c \\u043e\\u0442\\u0433\\u0440\\u0443\\u0437\\u043a\\u0438 \\u043a\\u0440\\u0443\\u043f\\u043d\\u043e\\u0439 \\u0441\\u0443\\u0434\\u043e\\u0432\\u043e\\u0439 \\u043f\\u0430\\u0440\\u0442\\u0438\\u0438 \\u0441 III \\u043d\\u0430 IV \\u043a\\u0432\\u0430\\u0440\\u0442\\u0430\\u043b \\u0442\\u0435\\u043a\\u0443\\u0449\\u0435\\u0433\\u043e \\u0433\\u043e\\u0434\\u0430, \\u0430 \\u0442\\u0430\\u043a\\u0436\\u0435 \\u043a\\u0432\\u0430\\u0440\\u0442\\u0430\\u043b\\u044c\\u043d\\u044b\\u043c\\u0438 \\u043f\\u043e\\u0441\\u0442\\u0430\\u0432\\u043a\\u0430\\u043c\\u0438 PCI \\u0432 \\u043c\\u0435\\u043d\\u044c\\u0448\\u0435\\u043c \\u043e\\u0431\\u044a\\u0435\\u043c\\u0435 \\u0432 \\u0441\\u043e\\u043e\\u0442\\u0432\\u0435\\u0442\\u0441\\u0442\\u0432\\u0438\\u0438 \\u0441 \\u0437\\u0430\\u044f\\u0432\\u043a\\u0430\\u043c\\u0438 \\u043f\\u043e\\u0442\\u0440\\u0435\\u0431\\u0438\\u0442\\u0435\\u043b\\u0435\\u0439 \\u0432 \\u0440\\u0430\\u043c\\u043a\\u0430\\u0445 \\u043f\\u043e\\u0434\\u043f\\u0438\\u0441\\u0430\\u043d\\u043d\\u044b\\u0445 \\u0440\\u0430\\u043d\\u0435\\u0435 \\u0433\\u043e\\u0434\\u043e\\u0432\\u044b\\u0445 \\u043a\\u043e\\u043d\\u0442\\u0440\\u0430\\u043a\\u0442\\u043e\\u0432.  \\n  \\n\\u0420\\u0435\\u0430\\u043b\\u0438\\u0437\\u0430\\u0446\\u0438\\u044f \\u0430\\u043d\\u0442\\u0440\\u0430\\u0446\\u0438\\u0442\\u0430 \\u0432 \\u0446\\u0435\\u043b\\u043e\\u043c \\u043e\\u0441\\u0442\\u0430\\u043b\\u0430\\u0441\\u044c \\u043d\\u0430 \\u0443\\u0440\\u043e\\u0432\\u043d\\u0435 \\u043f\\u0440\\u0435\\u0434\\u044b\\u0434\\u0443\\u0449\\u0435\\u0433\\u043e \\u043a\\u0432\\u0430\\u0440\\u0442\\u0430\\u043b\\u0430. \\u041f\\u0440\\u043e\\u0434\\u0430\\u0436\\u0438 \\u0441\\u0442\\u043e\\u0440\\u043e\\u043d\\u043d\\u0438\\u043c \\u043a\\u043b\\u0438\\u0435\\u043d\\u0442\\u0430\\u043c \\u0443\\u0432\\u0435\\u043b\\u0438\\u0447\\u0438\\u043b\\u0438\\u0441\\u044c \\u043d\\u0430 7% \\u0432\\u0441\\u043b\\u0435\\u0434\\u0441\\u0442\\u0432\\u0438\\u0435 \\u0440\\u0430\\u0441\\u0448\\u0438\\u0440\\u0435\\u043d\\u0438\\u044f \\u0433\\u0435\\u043e\\u0433\\u0440\\u0430\\u0444\\u0438\\u0438 \\u043f\\u043e\\u0441\\u0442\\u0430\\u0432\\u043e\\u043a \\u0432 \\u0410\\u0437\\u0438\\u0430\\u0442\\u0441\\u043a\\u043e-\\u0422\\u0438\\u0445\\u043e\\u043e\\u043a\\u0435\\u0430\\u043d\\u0441\\u043a\\u0438\\u0439 \\u0440\\u0435\\u0433\\u0438\\u043e\\u043d. \\u0412 \\u0447\\u0430\\u0441\\u0442\\u043d\\u043e\\u0441\\u0442\\u0438, \\u0431\\u044b\\u043b\\u0430 \\u043e\\u0442\\u0433\\u0440\\u0443\\u0436\\u0435\\u043d\\u0430 \\u043a\\u0440\\u0443\\u043f\\u043d\\u0430\\u044f \\u043f\\u0430\\u0440\\u0442\\u0438\\u044f \\u0430\\u043d\\u0442\\u0440\\u0430\\u0446\\u0438\\u0442\\u0430 \\u0437\\u0430\\u043a\\u0430\\u0437\\u0447\\u0438\\u043a\\u0443 \\u0438\\u0437 \\u0418\\u043d\\u0434\\u0438\\u0438.  \\n  \\n\\u041d\\u0430 \\u043e\\u0431\\u0449\\u0435\\u043c \\u043f\\u043e\\u043a\\u0430\\u0437\\u0430\\u0442\\u0435\\u043b\\u0435 \\u0440\\u0435\\u0430\\u043b\\u0438\\u0437\\u0430\\u0446\\u0438\\u0438 \\u044d\\u043d\\u0435\\u0440\\u0433\\u0435\\u0442\\u0438\\u0447\\u0435\\u0441\\u043a\\u043e\\u0433\\u043e \\u0443\\u0433\\u043b\\u044f (-7% \\u043a\\u043e II \\u043a\\u0432\\u0430\\u0440\\u0442\\u0430\\u043b\\u0443 2023 \\u0433.) \\u043e\\u0442\\u0440\\u0430\\u0437\\u0438\\u043b\\u043e\\u0441\\u044c \\u0441\\u043d\\u0438\\u0436\\u0435\\u043d\\u0438\\u0435 \\u043f\\u043e\\u0441\\u0442\\u0430\\u0432\\u043e\\u043a \\u044d\\u0442\\u043e\\u0433\\u043e \\u0432\\u0438\\u0434\\u0430 \\u043f\\u0440\\u043e\\u0434\\u0443\\u043a\\u0446\\u0438\\u0438 \\u043f\\u0440\\u0435\\u0434\\u043f\\u0440\\u0438\\u044f\\u0442\\u0438\\u044f\\u043c \\u0433\\u0440\\u0443\\u043f\\u043f\\u044b \\u041c\\u0435\\u0447\\u0435\\u043b.  \\n  \\n\\u0421\\u0435\\u0440\\u044c\\u0435\\u0437\\u043d\\u043e\\u0435 \\u043f\\u0430\\u0434\\u0435\\u043d\\u0438\\u0435 \\u043f\\u0440\\u043e\\u0438\\u0437\\u0432\\u043e\\u0434\\u0441\\u0442\\u0432\\u0430 \\u0438 \\u0440\\u0435\\u0430\\u043b\\u0438\\u0437\\u0430\\u0446\\u0438\\u0438 \\u0436\\u0435\\u043b\\u0435\\u0437\\u043e\\u0440\\u0443\\u0434\\u043d\\u043e\\u0433\\u043e \\u043a\\u043e\\u043d\\u0446\\u0435\\u043d\\u0442\\u0440\\u0430\\u0442\\u0430 \\u043d\\u0430 \\u041a\\u043e\\u0440\\u0448\\u0443\\u043d\\u043e\\u0432\\u0441\\u043a\\u043e\\u043c \\u0413\\u041e\\u041a\\u0435 \\u0431\\u044b\\u043b\\u043e \\u0432\\u044b\\u0437\\u0432\\u0430\\u043d\\u043e \\u0430\\u043d\\u043e\\u043c\\u0430\\u043b\\u044c\\u043d\\u044b\\u043c \\u043e\\u0431\\u0432\\u043e\\u0434\\u043d\\u0435\\u043d\\u0438\\u0435\\u043c \\u0432 \\u041a\\u043e\\u0440\\u0448\\u0443\\u043d\\u043e\\u0432\\u0441\\u043a\\u043e\\u043c \\u043a\\u0430\\u0440\\u044c\\u0435\\u0440\\u0435. \\u041a \\u043a\\u043e\\u043d\\u0446\\u0443 III \\u043a\\u0432\\u0430\\u0440\\u0442\\u0430\\u043b\\u0430 \\u043d\\u0430 \\u043e\\u0431\\u044a\\u0435\\u043a\\u0442\\u0435 \\u0431\\u044b\\u043b \\u043f\\u0440\\u0438\\u043d\\u044f\\u0442 \\u043d\\u0435\\u043e\\u0431\\u0445\\u043e\\u0434\\u0438\\u043c\\u044b\\u0439 \\u043a\\u043e\\u043c\\u043f\\u043b\\u0435\\u043a\\u0441 \\u043c\\u0435\\u0440, \\u0438 \\u0434\\u043e\\u0431\\u044b\\u0447\\u043d\\u044b\\u0435 \\u0440\\u0430\\u0431\\u043e\\u0442\\u044b \\u0432\\u043e\\u0437\\u043e\\u0431\\u043d\\u043e\\u0432\\u0438\\u043b\\u0438\\u0441\\u044c. \\u0414\\u043e\\u0431\\u044b\\u0447\\u0430 \\u0440\\u0443\\u0434\\u044b \\u043d\\u0430 \\u0420\\u0443\\u0434\\u043d\\u043e\\u0433\\u043e\\u0440\\u0441\\u043a\\u043e\\u043c \\u043a\\u0430\\u0440\\u044c\\u0435\\u0440\\u0435 \\u0432 \\u043e\\u0442\\u0447\\u0435\\u0442\\u043d\\u043e\\u043c \\u043f\\u0435\\u0440\\u0438\\u043e\\u0434\\u0435 \\u043e\\u0441\\u0443\\u0449\\u0435\\u0441\\u0442\\u0432\\u043b\\u044f\\u043b\\u0430\\u0441\\u044c \\u0432 \\u0448\\u0442\\u0430\\u0442\\u043d\\u043e\\u043c \\u0440\\u0435\\u0436\\u0438\\u043c\\u0435.  \\n  \\n\\u041d\\u0435\\u0437\\u043d\\u0430\\u0447\\u0438\\u0442\\u0435\\u043b\\u044c\\u043d\\u043e\\u0435 \\u0443\\u043c\\u0435\\u043d\\u044c\\u0448\\u0435\\u043d\\u0438\\u0435 \\u043f\\u0440\\u043e\\u0434\\u0430\\u0436 \\u043a\\u043e\\u043a\\u0441\\u043e\\u0432\\u043e\\u0439 \\u043f\\u0440\\u043e\\u0434\\u0443\\u043a\\u0446\\u0438\\u0438 (-4% \\u043a\\u043e II \\u043a\\u0432\\u0430\\u0440\\u0442\\u0430\\u043b\\u0443) \\u043e\\u0431\\u0443\\u0441\\u043b\\u043e\\u0432\\u043b\\u0435\\u043d\\u043e \\u0441\\u043e\\u043a\\u0440\\u0430\\u0449\\u0435\\u043d\\u0438\\u0435\\u043c \\u043f\\u043e\\u0441\\u0442\\u0430\\u0432\\u043e\\u043a \\u043d\\u0430 \\u044d\\u043a\\u0441\\u043f\\u043e\\u0440\\u0442\\u043d\\u044b\\u0445 \\u043d\\u0430\\u043f\\u0440\\u0430\\u0432\\u043b\\u0435\\u043d\\u0438\\u044f\\u0445.  \\n  \\n\\u0412 \\u043e\\u0442\\u0447\\u0435\\u0442\\u043d\\u043e\\u043c \\u043f\\u0435\\u0440\\u0438\\u043e\\u0434\\u0435 \\u043f\\u0440\\u043e\\u0432\\u043e\\u0434\\u0438\\u043bc\\u044f \\u043a\\u0430\\u043f\\u0438\\u0442\\u0430\\u043b\\u044c\\u043d\\u044b\\u0439 \\u0440\\u0435\\u043c\\u043e\\u043d\\u0442 \\u0434\\u043e\\u043c\\u0435\\u043d\\u043d\\u043e\\u0439 \\u043f\\u0435\\u0447\\u0438 \\u21165 \\u0427\\u0435\\u043b\\u044f\\u0431\\u0438\\u043d\\u0441\\u043a\\u043e\\u0433\\u043e \\u043c\\u0435\\u0442\\u0430\\u043b\\u043b\\u0443\\u0440\\u0433\\u0438\\u0447\\u0435\\u0441\\u043a\\u043e\\u0433\\u043e \\u043a\\u043e\\u043c\\u0431\\u0438\\u043d\\u0430\\u0442\\u0430, \\u0432 \\u0440\\u0435\\u0437\\u0443\\u043b\\u044c\\u0442\\u0430\\u0442\\u0435 \\u0447\\u0435\\u0433\\u043e \\u043f\\u0440\\u043e\\u0438\\u0437\\u0432\\u043e\\u0434\\u0441\\u0442\\u0432\\u0435\\u043d\\u043d\\u044b\\u0435 \\u043f\\u043e\\u043a\\u0430\\u0437\\u0430\\u0442\\u0435\\u043b\\u0438 \\u043f\\u043e \\u0447\\u0443\\u0433\\u0443\\u043d\\u0443 \\u0438 \\u0441\\u0442\\u0430\\u043b\\u0438 \\u0441\\u043d\\u0438\\u0437\\u0438\\u043b\\u0438\\u0441\\u044c \\u043d\\u0430 4% \\u0438 5% \\u0441\\u043e\\u043e\\u0442\\u0432\\u0435\\u0442\\u0441\\u0442\\u0432\\u0435\\u043d\\u043d\\u043e. \\u041a\\u043e\\u043c\\u043f\\u0430\\u043d\\u0438\\u044f \\u043f\\u0440\\u043e\\u0434\\u043e\\u043b\\u0436\\u0438\\u043b\\u0430 \\u0440\\u0430\\u0437\\u0432\\u0438\\u0432\\u0430\\u0442\\u044c \\u043f\\u0440\\u043e\\u0434\\u0430\\u0436\\u0438 \\u043c\\u0435\\u0442\\u0430\\u043b\\u043b\\u043e\\u043f\\u0440\\u043e\\u043a\\u0430\\u0442\\u0430 \\u043d\\u0430 \\u043d\\u043e\\u0432\\u044b\\u0445 \\u0434\\u043b\\u044f \\u043a\\u043e\\u043c\\u043f\\u0430\\u043d\\u0438\\u0438 \\u043d\\u0430\\u043f\\u0440\\u0430\\u0432\\u043b\\u0435\\u043d\\u0438\\u044f\\u0445. \\u0427\\u0442\\u043e \\u043a\\u0430\\u0441\\u0430\\u0435\\u0442\\u0441\\u044f \\u0432\\u043d\\u0443\\u0442\\u0440\\u0435\\u043d\\u043d\\u0435\\u0433\\u043e \\u0440\\u044b\\u043d\\u043a\\u0430, \\u0442\\u043e \\u0441\\u043f\\u0440\\u043e\\u0441 \\u043d\\u0430 \\u0430\\u0440\\u043c\\u0430\\u0442\\u0443\\u0440\\u0443 \\u0438 \\u0434\\u0440\\u0443\\u0433\\u0438\\u0435 \\u0432\\u0438\\u0434\\u044b \\u043f\\u0440\\u043e\\u0434\\u0443\\u043a\\u0446\\u0438\\u0438 \\u0441\\u043e \\u0441\\u0442\\u043e\\u0440\\u043e\\u043d\\u044b \\u043f\\u0440\\u0435\\u0434\\u043f\\u0440\\u0438\\u044f\\u0442\\u0438\\u0439 \\u0441\\u0442\\u0440\\u043e\\u0438\\u0442\\u0435\\u043b\\u044c\\u043d\\u043e\\u0433\\u043e \\u0441\\u0435\\u043a\\u0442\\u043e\\u0440\\u0430 \\u0432 III \\u043a\\u0432\\u0430\\u0440\\u0442\\u0430\\u043b\\u0435 \\u0431\\u044b\\u043b \\u0441\\u0442\\u0430\\u0431\\u0438\\u043b\\u044c\\u043d\\u044b\\u043c, \\u0447\\u0442\\u043e \\u043f\\u043e\\u0437\\u0432\\u043e\\u043b\\u0438\\u043b\\u043e \\u043d\\u0430\\u0440\\u0430\\u0441\\u0442\\u0438\\u0442\\u044c \\u043f\\u0440\\u043e\\u0434\\u0430\\u0436\\u0438 \\u043d\\u0430 \\u0432\\u043d\\u0443\\u0442\\u0440\\u0435\\u043d\\u043d\\u0435\\u043c \\u0440\\u044b\\u043d\\u043a\\u0435 \\u0431\\u043b\\u0430\\u0433\\u043e\\u0434\\u0430\\u0440\\u044f \\u0448\\u0438\\u0440\\u043e\\u043a\\u043e\\u0439 \\u043a\\u043b\\u0438\\u0435\\u043d\\u0442\\u0441\\u043a\\u043e\\u0439 \\u0431\\u0430\\u0437\\u0435. \\u041d\\u0430 \\u043e\\u0431\\u0449\\u0438\\u0435 \\u043f\\u043e\\u043a\\u0430\\u0437\\u0430\\u0442\\u0435\\u043b\\u0438 \\u0440\\u0435\\u0430\\u043b\\u0438\\u0437\\u0430\\u0446\\u0438\\u0438 \\u0441\\u043e\\u0440\\u0442\\u043e\\u0432\\u043e\\u0433\\u043e \\u0438 \\u043f\\u043b\\u043e\\u0441\\u043a\\u043e\\u0433\\u043e \\u043f\\u0440\\u043e\\u043a\\u0430\\u0442\\u0430 \\u043a\\u0432\\u0430\\u0440\\u0442\\u0430\\u043b \\u043a \\u043a\\u0432\\u0430\\u0440\\u0442\\u0430\\u043b\\u0443 (-3% \\u0438 -10% \\u0441\\u043e\\u043e\\u0442\\u0432\\u0435\\u0442\\u0441\\u0442\\u0432\\u0435\\u043d\\u043d\\u043e) \\u0442\\u0430\\u043a\\u0436\\u0435 \\u043f\\u043e\\u0432\\u043b\\u0438\\u044f\\u043b\\u0438 \\u043f\\u043b\\u0430\\u043d\\u043e\\u0432\\u044b\\u0435 \\u0440\\u0435\\u043c\\u043e\\u043d\\u0442\\u044b, \\u0440\\u0430\\u0437\\u0432\\u0435\\u0440\\u043d\\u0443\\u0442\\u044b\\u0435 \\u043d\\u0430 \\u0440\\u044f\\u0434\\u0435 \\u043f\\u0440\\u043e\\u043a\\u0430\\u0442\\u043d\\u044b\\u0445 \\u0441\\u0442\\u0430\\u043d\\u043e\\u0432 \\u0427\\u041c\\u041a.  \\n  \\n\\u0421\\u043d\\u0438\\u0436\\u0435\\u043d\\u0438\\u0435 \\u0440\\u0435\\u0430\\u043b\\u0438\\u0437\\u0430\\u0446\\u0438\\u0438 \\u0444\\u0435\\u0440\\u0440\\u043e\\u0441\\u0438\\u043b\\u0438\\u0446\\u0438\\u044f \\u0411\\u0440\\u0430\\u0442\\u0441\\u043a\\u043e\\u0433\\u043e \\u0437\\u0430\\u0432\\u043e\\u0434\\u0430 \\u0444\\u0435\\u0440\\u0440\\u043e\\u0441\\u043f\\u043b\\u0430\\u0432\\u043e\\u0432 \\u043d\\u0430 20% \\u043e\\u0442\\u043d\\u043e\\u0441\\u0438\\u0442\\u0435\\u043b\\u044c\\u043d\\u043e II \\u043a\\u0432\\u0430\\u0440\\u0442\\u0430\\u043b\\u0430 \\u043f\\u0440\\u043e\\u0438\\u0437\\u043e\\u0448\\u043b\\u043e \\u0432 \\u0441\\u0432\\u044f\\u0437\\u0438 \\u0441 \\u043e\\u043a\\u043e\\u043d\\u0447\\u0430\\u043d\\u0438\\u0435\\u043c \\u043f\\u043e\\u0441\\u0442\\u0430\\u0432\\u043e\\u043a \\u043f\\u043e \\u043a\\u0440\\u0443\\u043f\\u043d\\u043e\\u043c\\u0443 \\u044d\\u043a\\u0441\\u043f\\u043e\\u0440\\u0442\\u043d\\u043e\\u043c\\u0443 \\u043a\\u043e\\u043d\\u0442\\u0440\\u0430\\u043a\\u0442\\u0443.  \\n  \\n\\u0417\\u0430\\u043c\\u0435\\u0434\\u043b\\u0435\\u043d\\u0438\\u0435 \\u0441\\u043f\\u0440\\u043e\\u0441\\u0430 \\u043d\\u0430 \\u043f\\u043e\\u043a\\u043e\\u0432\\u043a\\u0438 \\u043d\\u0430 \\u0440\\u043e\\u0441\\u0441\\u0438\\u0439\\u0441\\u043a\\u043e\\u043c \\u0440\\u044b\\u043d\\u043a\\u0435 \\u043f\\u0440\\u0438\\u0432\\u0435\\u043b\\u043e \\u043a \\u0443\\u043c\\u0435\\u043d\\u044c\\u0448\\u0435\\u043d\\u0438\\u044e \\u043f\\u043e\\u043a\\u0430\\u0437\\u0430\\u0442\\u0435\\u043b\\u044f \\u043f\\u0440\\u043e\\u0434\\u0430\\u0436 \\u0432 \\u043e\\u0442\\u0447\\u0435\\u0442\\u043d\\u043e\\u043c \\u043f\\u0435\\u0440\\u0438\\u043e\\u0434\\u0435 \\u043d\\u0430 28%. \\u041f\\u0440\\u043e\\u0434\\u0430\\u0436\\u0438 \\u0448\\u0442\\u0430\\u043c\\u043f\\u043e\\u0432\\u0430\\u043d\\u043d\\u043e\\u0439 \\u043f\\u0440\\u043e\\u0434\\u0443\\u043a\\u0446\\u0438\\u0438 \\u043f\\u0440\\u0438\\u0431\\u0430\\u0432\\u0438\\u043b\\u0438 5% \\u043a\\u0432\\u0430\\u0440\\u0442\\u0430\\u043b \\u043a \\u043a\\u0432\\u0430\\u0440\\u0442\\u0430\\u043b\\u0443, \\u043f\\u0440\\u0438\\u043e\\u0440\\u0438\\u0442\\u0435\\u0442 \\u043e\\u0442\\u0434\\u0430\\u0432\\u0430\\u043b\\u0441\\u044f \\u0431\\u043e\\u043b\\u0435\\u0435 \\u0434\\u043e\\u0440\\u043e\\u0433\\u043e\\u0441\\u0442\\u043e\\u044f\\u0449\\u0438\\u043c \\u0432\\u0438\\u0434\\u0430\\u043c \\u0448\\u0442\\u0430\\u043c\\u043f\\u043e\\u0432\\u0430\\u043d\\u043d\\u044b\\u0445 \\u0438\\u0437\\u0434\\u0435\\u043b\\u0438\\u0439.  \\n  \\n\\u041f\\u043e\\u043a\\u0430\\u0437\\u0430\\u0442\\u0435\\u043b\\u044c \\u0440\\u0435\\u0430\\u043b\\u0438\\u0437\\u0430\\u0446\\u0438\\u0438 \\u043c\\u0435\\u0442\\u0438\\u0437\\u043e\\u0432 \\u0443\\u043a\\u0440\\u0435\\u043f\\u0438\\u043b\\u0441\\u044f \\u043d\\u0430 2% \\u043f\\u043e \\u0441\\u0440\\u0430\\u0432\\u043d\\u0435\\u043d\\u0438\\u044e \\u0441\\u043e II \\u043a\\u0432\\u0430\\u0440\\u0442\\u0430\\u043b\\u043e\\u043c \\u0431\\u043b\\u0430\\u0433\\u043e\\u0434\\u0430\\u0440\\u044f \\u043d\\u0430\\u0440\\u0430\\u0449\\u0438\\u0432\\u0430\\u043d\\u0438\\u044e \\u043e\\u0431\\u044a\\u0435\\u043c\\u0430 \\u0432\\u044b\\u043f\\u0443\\u0441\\u043a\\u0430 \\u0438 \\u0441\\u0431\\u044b\\u0442\\u0430 \\u043f\\u0440\\u043e\\u0432\\u043e\\u043b\\u043e\\u043a\\u0438 \\u043d\\u0430 \\u0411\\u0435\\u043b\\u043e\\u0440\\u0435\\u0446\\u043a\\u043e\\u043c \\u043c\\u0435\\u0442\\u0430\\u043b\\u043b\\u0443\\u0440\\u0433\\u0438\\u0447\\u0435\\u0441\\u043a\\u043e\\u043c \\u043a\\u043e\\u043c\\u0431\\u0438\\u043d\\u0430\\u0442\\u0435.  \\n  \\n\\u0423\\u043c\\u0435\\u043d\\u044c\\u0448\\u0435\\u043d\\u0438\\u0435 \\u0432\\u044b\\u0440\\u0430\\u0431\\u043e\\u0442\\u043a\\u0438 \\u044d\\u043b\\u0435\\u043a\\u0442\\u0440\\u043e\\u044d\\u043d\\u0435\\u0440\\u0433\\u0438\\u0438 \\u043d\\u0430 21% \\u0438 \\u0442\\u0435\\u043f\\u043b\\u043e\\u0432\\u043e\\u0439 \\u044d\\u043d\\u0435\\u0440\\u0433\\u0438\\u0438 \\u2014 \\u043d\\u0430 29% \\u0432 III \\u043a\\u0432\\u0430\\u0440\\u0442\\u0430\\u043b\\u0435 \\u0442\\u0435\\u043a\\u0443\\u0449\\u0435\\u0433\\u043e \\u0433\\u043e\\u0434\\u0430 \\u043e\\u0431\\u044a\\u044f\\u0441\\u043d\\u044f\\u0435\\u0442\\u0441\\u044f \\u043e\\u043a\\u043e\\u043d\\u0447\\u0430\\u043d\\u0438\\u0435\\u043c \\u043e\\u0442\\u043e\\u043f\\u0438\\u0442\\u0435\\u043b\\u044c\\u043d\\u043e\\u0433\\u043e \\u043f\\u0435\\u0440\\u0438\\u043e\\u0434\\u0430 \\u0438 \\u043f\\u0440\\u043e\\u0432\\u0435\\u0434\\u0435\\u043d\\u0438\\u0435\\u043c \\u0440\\u0435\\u043c\\u043e\\u043d\\u0442\\u043d\\u043e\\u0439 \\u043a\\u0430\\u043c\\u043f\\u0430\\u043d\\u0438\\u0438 \\u043d\\u0430 \\u043e\\u0441\\u043d\\u043e\\u0432\\u043d\\u043e\\u043c \\u0433\\u0435\\u043d\\u0435\\u0440\\u0438\\u0440\\u0443\\u044e\\u0449\\u0435\\u043c \\u043e\\u0431\\u043e\\u0440\\u0443\\u0434\\u043e\\u0432\\u0430\\u043d\\u0438\\u0438.\\n\"\n        ],\n        \"semantic_type\": \"\",\n        \"description\": \"\"\n      }\n    },\n    {\n      \"column\": \"summarized_text\",\n      \"properties\": {\n        \"dtype\": \"string\",\n        \"num_unique_values\": 17600,\n        \"samples\": [\n          \"Germany \\u043d\\u0430\\u0434\\u0435\\u0435\\u0442\\u0441\\u044f \\u043d\\u0430 \\u0441\\u043a\\u043e\\u0440\\u043e\\u0435 \\u043d\\u0430\\u0447\\u0430\\u043b\\u043e \\u043f\\u043e\\u0441\\u0442\\u0430\\u0432\\u043e\\u043a \\u0438\\u0441\\u0442\\u0440\\u0435\\u0431\\u0438\\u0442\\u0435\\u043b\\u0435\\u0439 \\u0423\\u043a\\u0440\\u0430\\u0438\\u043d\\u0435. \\u041e\\u0431 \\u044d\\u0442\\u043e\\u043c \\u0437\\u0430\\u044f\\u0432\\u0438\\u043b \\u0433\\u043b\\u0430\\u0432\\u0430 \\u0434\\u0438\\u043f\\u043b\\u043e\\u043c\\u0430\\u0442\\u0438\\u0438 \\u0415\\u0421 \\u0411\\u043e\\u0440\\u0440\\u0435\\u043b\\u044c.\",\n          \"\\u041d\\u0430 \\u044d\\u0442\\u043e\\u0439 \\u043d\\u0435\\u0434\\u0435\\u043b\\u0435 \\u043a\\u043e\\u043c\\u043f\\u0430\\u043d\\u0438\\u044f Alibaba Group Holding Limited (BABA) \\u043f\\u0440\\u0438\\u0431\\u0430\\u0432\\u0438\\u043b\\u0430 32,5%, \\u0447\\u0442\\u043e \\u0443\\u043a\\u0430\\u0437\\u044b\\u0432\\u0430\\u0435\\u0442 \\u043d\\u0430 \\u0442\\u043e, \\u0447\\u0442\\u043e \\u0430\\u043a\\u0446\\u0438\\u0438 \\u043c\\u043e\\u0433\\u0443\\u0442 \\u0431\\u044b\\u0442\\u044c \\u0433\\u043e\\u0442\\u043e\\u0432\\u044b \\u043a \\u043f\\u0440\\u043e\\u0440\\u044b\\u0432\\u0443. \\u0420\\u0430\\u043d\\u0435\\u0435 \\u043a\\u043e\\u043c\\u043f\\u0430\\u043d\\u0438\\u044f \\u043f\\u0435\\u0440\\u0435\\u0441\\u0435\\u043a\\u043b\\u0430 \\u0441\\u0432\\u043e\\u044e 200-\\u0434\\u043d\\u0435\\u0432\\u043d\\u0443\\u044e \\u043f\\u0440\\u043e\\u0441\\u0442\\u0443\\u044e \\u0441\\u043a\\u043e\\u043b\\u044c\\u0437\\u044f\\u0449\\u0443\\u044e \\u0441\\u0440\\u0435\\u0434\\u043d\\u044e\\u044e, \\u0438\\u0437\\u0432\\u0435\\u0441\\u0442\\u043d\\u0443\\u044e \\u043a\\u0430\\u043a \\u00ab\\u0437\\u043e\\u043b\\u043e\\u0442\\u043e\\u0439 \\u043a\\u0440\\u0435\\u0441\\u0442\\u00bb \\u2014 \\u0442\\u0435\\u0445\\u043d\\u0438\\u0447\\u0435\\u0441\\u043a\\u0438\\u0439 \\u0433\\u0440\\u0430\\u0444\\u0438\\u0447\\u0435\\u0441\\u043a\\u0438\\u0439 \\u043f\\u0430\\u0442\\u0442\\u0435\\u0440\\u043d, \\u043a\\u043e\\u0442\\u043e\\u0440\\u044b\\u0439 \\u043c\\u043e\\u0436\\u0435\\u0442 \\u0443\\u043a\\u0430\\u0437\\u044b\\u0432\\u0430\\u0442\\u044c \\u043d\\u0430 \\u043f\\u043e\\u0442\\u0435\\u043d\\u0446\\u0438\\u0430\\u043b\\u044c\\u043d\\u044b\\u0439 \\u0431\\u044b\\u0447\\u0438\\u0439 \\u043f\\u0440\\u043e\\u0440\\u044b\\u0432.\",\n          \"\\u00ab\\u041c\\u0422\\u0421\\u00bb \\u0432\\u043e\\u0437\\u043e\\u0431\\u043d\\u043e\\u0432\\u0438\\u043b\\u0430 \\u043f\\u0435\\u0440\\u0435\\u0433\\u043e\\u0432\\u043e\\u0440\\u044b \\u043f\\u043e \\u043f\\u0440\\u043e\\u0434\\u0430\\u0436\\u0435 \\u0441\\u0432\\u043e\\u0438\\u0445 \\u0441\\u043e\\u0442\\u043e\\u0432\\u044b\\u0445 \\u0432\\u044b\\u0448\\u0435\\u043a: \\u043e\\u0434\\u043d\\u0438\\u043c \\u0438\\u0437 \\u0432\\u043e\\u0437\\u043c\\u043e\\u0436\\u043d\\u044b\\u0445 \\u043f\\u043e\\u043a\\u0443\\u043f\\u0430\\u0442\\u0435\\u043b\\u0435\\u0439 \\u043c\\u043e\\u0436\\u0435\\u0442 \\u0441\\u0442\\u0430\\u0442\\u044c \\u043a\\u043e\\u043d\\u0441\\u043e\\u0440\\u0446\\u0438\\u0443\\u043c \\u0438\\u043d\\u0432\\u0435\\u0441\\u0442\\u043e\\u0440\\u043e\\u0432, \\u0432 \\u043a\\u043e\\u0442\\u043e\\u0440\\u044b\\u0439 \\u0432\\u043e\\u0439\\u0434\\u0435\\u0442 \\u0410\\u0424\\u041a \\u0421\\u0438\\u0441\\u0442\\u0435\\u043c\\u0430 \\u2014 \\u041a\\u043e\\u043c\\u043c\\u0435\\u0440\\u0441\\u0430\\u043d\\u0442\\u044a.\"\n        ],\n        \"semantic_type\": \"\",\n        \"description\": \"\"\n      }\n    },\n    {\n      \"column\": \"regular_text_sentiment_label\",\n      \"properties\": {\n        \"dtype\": \"category\",\n        \"num_unique_values\": 3,\n        \"samples\": [\n          \"negative\",\n          \"neutral\",\n          \"positive\"\n        ],\n        \"semantic_type\": \"\",\n        \"description\": \"\"\n      }\n    },\n    {\n      \"column\": \"regular_text_sentiment_score\",\n      \"properties\": {\n        \"dtype\": \"number\",\n        \"std\": 0.16556715512205902,\n        \"min\": 0.3420819342136383,\n        \"max\": 0.9945684671401978,\n        \"num_unique_values\": 17704,\n        \"samples\": [\n          0.9590581059455872,\n          0.6042435169219971,\n          0.4523404836654663\n        ],\n        \"semantic_type\": \"\",\n        \"description\": \"\"\n      }\n    },\n    {\n      \"column\": \"summarized_text_sentiment_label\",\n      \"properties\": {\n        \"dtype\": \"category\",\n        \"num_unique_values\": 3,\n        \"samples\": [\n          \"negative\",\n          \"neutral\",\n          \"positive\"\n        ],\n        \"semantic_type\": \"\",\n        \"description\": \"\"\n      }\n    },\n    {\n      \"column\": \"summarized_text_sentiment_score\",\n      \"properties\": {\n        \"dtype\": \"number\",\n        \"std\": 0.16772051499590365,\n        \"min\": 0.3475709855556488,\n        \"max\": 0.994490385055542,\n        \"num_unique_values\": 17559,\n        \"samples\": [\n          0.9556109309196472,\n          0.5423752665519714,\n          0.8693457841873169\n        ],\n        \"semantic_type\": \"\",\n        \"description\": \"\"\n      }\n    }\n  ]\n}"
            }
          },
          "metadata": {},
          "execution_count": 3
        }
      ]
    },
    {
      "cell_type": "code",
      "source": [
        "from google.colab import drive\n",
        "drive.mount('/content/drive')"
      ],
      "metadata": {
        "id": "eY5_oG0RogTX"
      },
      "execution_count": null,
      "outputs": []
    },
    {
      "cell_type": "markdown",
      "source": [
        "**Вывод признаков и их свойств**"
      ],
      "metadata": {
        "id": "UxqF1iy-y9HK"
      }
    },
    {
      "cell_type": "code",
      "source": [
        "df.info()"
      ],
      "metadata": {
        "colab": {
          "base_uri": "https://localhost:8080/"
        },
        "id": "JWfaEyWWzhr7",
        "outputId": "b9342376-096b-4d52-9dd3-ade68132ab80"
      },
      "execution_count": 4,
      "outputs": [
        {
          "output_type": "stream",
          "name": "stdout",
          "text": [
            "<class 'pandas.core.frame.DataFrame'>\n",
            "RangeIndex: 18107 entries, 0 to 18106\n",
            "Data columns (total 8 columns):\n",
            " #   Column                           Non-Null Count  Dtype  \n",
            "---  ------                           --------------  -----  \n",
            " 0   date                             18107 non-null  object \n",
            " 1   post_url                         18107 non-null  object \n",
            " 2   text                             18107 non-null  object \n",
            " 3   summarized_text                  18107 non-null  object \n",
            " 4   regular_text_sentiment_label     18107 non-null  object \n",
            " 5   regular_text_sentiment_score     18107 non-null  float64\n",
            " 6   summarized_text_sentiment_label  18107 non-null  object \n",
            " 7   summarized_text_sentiment_score  18107 non-null  float64\n",
            "dtypes: float64(2), object(6)\n",
            "memory usage: 1.1+ MB\n"
          ]
        }
      ]
    },
    {
      "cell_type": "markdown",
      "source": [
        "**Выделяем только те признаки,с которыми будем работать**"
      ],
      "metadata": {
        "id": "F2MzNw9ky9OT"
      }
    },
    {
      "cell_type": "code",
      "source": [
        "df_copy=df[['summarized_text','summarized_text_sentiment_label']].copy()"
      ],
      "metadata": {
        "id": "EMiHmsqTzl_E"
      },
      "execution_count": 5,
      "outputs": []
    },
    {
      "cell_type": "code",
      "source": [
        "df_copy.info()"
      ],
      "metadata": {
        "colab": {
          "base_uri": "https://localhost:8080/"
        },
        "id": "x9AMmBgfznsM",
        "outputId": "84765890-7098-47d5-d8dd-629725a7bca5"
      },
      "execution_count": 6,
      "outputs": [
        {
          "output_type": "stream",
          "name": "stdout",
          "text": [
            "<class 'pandas.core.frame.DataFrame'>\n",
            "RangeIndex: 18107 entries, 0 to 18106\n",
            "Data columns (total 2 columns):\n",
            " #   Column                           Non-Null Count  Dtype \n",
            "---  ------                           --------------  ----- \n",
            " 0   summarized_text                  18107 non-null  object\n",
            " 1   summarized_text_sentiment_label  18107 non-null  object\n",
            "dtypes: object(2)\n",
            "memory usage: 283.1+ KB\n"
          ]
        }
      ]
    },
    {
      "cell_type": "markdown",
      "source": [
        "**Изучим распределение классов**"
      ],
      "metadata": {
        "id": "OyWuQRAgy9T0"
      }
    },
    {
      "cell_type": "code",
      "source": [
        "df_copy.groupby('summarized_text_sentiment_label').count().plot(kind='bar')"
      ],
      "metadata": {
        "colab": {
          "base_uri": "https://localhost:8080/",
          "height": 513
        },
        "id": "uW26BG-AzrKk",
        "outputId": "9841a496-853f-403b-d0da-3bfdc2681419"
      },
      "execution_count": 7,
      "outputs": [
        {
          "output_type": "execute_result",
          "data": {
            "text/plain": [
              "<Axes: xlabel='summarized_text_sentiment_label'>"
            ]
          },
          "metadata": {},
          "execution_count": 7
        },
        {
          "output_type": "display_data",
          "data": {
            "text/plain": [
              "<Figure size 640x480 with 1 Axes>"
            ],
            "image/png": "[encoded data removed]"
          },
          "metadata": {}
        }
      ]
    },
    {
      "cell_type": "markdown",
      "source": [
        "Данные не сбалансированы, поэтому метрику будем использовать `F1-score`"
      ],
      "metadata": {
        "id": "rMiKm-2sy9WM"
      }
    },
    {
      "cell_type": "markdown",
      "source": [
        "**Кодируем целевой признак**"
      ],
      "metadata": {
        "id": "tMC67PCUzxJE"
      }
    },
    {
      "cell_type": "code",
      "source": [
        "df_copy['summarized_text_sentiment_label'] = df_copy.summarized_text_sentiment_label.map({'negative': 0, 'neutral': 1, 'positive': 2})"
      ],
      "metadata": {
        "id": "s4KjnS8hzvm8"
      },
      "execution_count": 8,
      "outputs": []
    },
    {
      "cell_type": "code",
      "source": [
        "df_copy['summarized_text_sentiment_label'].unique()"
      ],
      "metadata": {
        "colab": {
          "base_uri": "https://localhost:8080/"
        },
        "id": "kj4Ns7PzzzFh",
        "outputId": "87bc6135-602a-4d03-9a36-bbc39d7ddb63"
      },
      "execution_count": 9,
      "outputs": [
        {
          "output_type": "execute_result",
          "data": {
            "text/plain": [
              "array([0, 1, 2])"
            ]
          },
          "metadata": {},
          "execution_count": 9
        }
      ]
    },
    {
      "cell_type": "markdown",
      "source": [
        "**Переводим текст в нижний регистр**"
      ],
      "metadata": {
        "id": "H7ouq3pZz2KL"
      }
    },
    {
      "cell_type": "code",
      "source": [
        "df_copy['summarized_text'] = df_copy.summarized_text.map(lambda x: x.lower())"
      ],
      "metadata": {
        "id": "Dpf8THNoz0os"
      },
      "execution_count": 10,
      "outputs": []
    },
    {
      "cell_type": "markdown",
      "source": [
        "**Удаление знаков препинания и цифр**"
      ],
      "metadata": {
        "id": "7rdakCBEz40j"
      }
    },
    {
      "cell_type": "code",
      "source": [
        "import re\n",
        "\n",
        "def clean_text(text):\n",
        "    text = re.sub(r'[^\\sа-яА-ЯёЁ0-9@\\[\\]]', ' ', text)  # Удаляет пунктуацию\n",
        "    text = re.sub(r'\\w*\\d+\\w*', '', text)  # Удаляет цифры\n",
        "    text = re.sub(r'\\s{2,}', ' ', text)  # Удаляет ненужные пробелы\n",
        "    return text"
      ],
      "metadata": {
        "id": "92bvjmQmmJM5"
      },
      "execution_count": 11,
      "outputs": []
    },
    {
      "cell_type": "code",
      "source": [
        "df_copy['summarized_text'] = df_copy['summarized_text'].apply(clean_text)"
      ],
      "metadata": {
        "id": "j7UFxT_cmTYa"
      },
      "execution_count": 12,
      "outputs": []
    },
    {
      "cell_type": "code",
      "source": [
        "df_copy2=df_copy.copy()"
      ],
      "metadata": {
        "id": "REzdqbE52J4y"
      },
      "execution_count": 13,
      "outputs": []
    },
    {
      "cell_type": "markdown",
      "source": [
        "**Токенизация**"
      ],
      "metadata": {
        "id": "vvAqFnTNz_UU"
      }
    },
    {
      "cell_type": "code",
      "source": [
        "import nltk\n",
        "nltk.download('punkt')\n",
        "nltk.download('punkt_tab')\n",
        "df_copy['summarized_text'] = df_copy['summarized_text'].apply(nltk.word_tokenize)"
      ],
      "metadata": {
        "colab": {
          "base_uri": "https://localhost:8080/"
        },
        "id": "1b7jNkObz8mB",
        "outputId": "ed7922a9-f841-4c72-fe53-70515d3cd1b9"
      },
      "execution_count": 14,
      "outputs": [
        {
          "output_type": "stream",
          "name": "stderr",
          "text": [
            "[nltk_data] Downloading package punkt to /root/nltk_data...\n",
            "[nltk_data]   Package punkt is already up-to-date!\n",
            "[nltk_data] Downloading package punkt_tab to /root/nltk_data...\n",
            "[nltk_data]   Package punkt_tab is already up-to-date!\n"
          ]
        }
      ]
    },
    {
      "cell_type": "markdown",
      "source": [
        "**Стемминг**"
      ],
      "metadata": {
        "id": "l7TYbIXy09vc"
      }
    },
    {
      "cell_type": "code",
      "source": [
        "from nltk.stem import SnowballStemmer\n",
        "stemmer = SnowballStemmer(\"russian\")\n",
        "df_copy['summarized_text'] = df_copy['summarized_text'].apply(lambda x: [stemmer.stem(y) for y in x])"
      ],
      "metadata": {
        "id": "voYoERjx0Bj_"
      },
      "execution_count": 15,
      "outputs": []
    },
    {
      "cell_type": "markdown",
      "source": [
        "**Посмотрим как выглядит текст теперь**"
      ],
      "metadata": {
        "id": "8hXutC1f10ms"
      }
    },
    {
      "cell_type": "code",
      "source": [
        "df_copy.head(5)"
      ],
      "metadata": {
        "colab": {
          "base_uri": "https://localhost:8080/",
          "height": 206
        },
        "id": "fwf7U0CK465v",
        "outputId": "cc191af1-a8e8-4eb6-f83c-0e70857971cc"
      },
      "execution_count": 16,
      "outputs": [
        {
          "output_type": "execute_result",
          "data": {
            "text/plain": [
              "                                     summarized_text  \\\n",
              "0  [спрос, на, морск, перевозк, из, аз, в, сша, у...   \n",
              "1  [банк, росс, возобнов, операц, с, иностра, вал...   \n",
              "2  [ожида, замедлен, инфляц, в, сша, замедл, до, ...   \n",
              "3  [вслед, за, возвращен, бюджетн, прав, в, росс,...   \n",
              "4  [сбер, зафиксирова, годов, обва, приб, на, в, ...   \n",
              "\n",
              "   summarized_text_sentiment_label  \n",
              "0                                0  \n",
              "1                                1  \n",
              "2                                0  \n",
              "3                                2  \n",
              "4                                0  "
            ],
            "text/html": [
              "\n",
              "  <div id=\"df-33cdacab-6854-403d-81ef-053b0e7a2def\" class=\"colab-df-container\">\n",
              "    <div>\n",
              "<style scoped>\n",
              "    .dataframe tbody tr th:only-of-type {\n",
              "        vertical-align: middle;\n",
              "    }\n",
              "\n",
              "    .dataframe tbody tr th {\n",
              "        vertical-align: top;\n",
              "    }\n",
              "\n",
              "    .dataframe thead th {\n",
              "        text-align: right;\n",
              "    }\n",
              "</style>\n",
              "<table border=\"1\" class=\"dataframe\">\n",
              "  <thead>\n",
              "    <tr style=\"text-align: right;\">\n",
              "      <th></th>\n",
              "      <th>summarized_text</th>\n",
              "      <th>summarized_text_sentiment_label</th>\n",
              "    </tr>\n",
              "  </thead>\n",
              "  <tbody>\n",
              "    <tr>\n",
              "      <th>0</th>\n",
              "      <td>[спрос, на, морск, перевозк, из, аз, в, сша, у...</td>\n",
              "      <td>0</td>\n",
              "    </tr>\n",
              "    <tr>\n",
              "      <th>1</th>\n",
              "      <td>[банк, росс, возобнов, операц, с, иностра, вал...</td>\n",
              "      <td>1</td>\n",
              "    </tr>\n",
              "    <tr>\n",
              "      <th>2</th>\n",
              "      <td>[ожида, замедлен, инфляц, в, сша, замедл, до, ...</td>\n",
              "      <td>0</td>\n",
              "    </tr>\n",
              "    <tr>\n",
              "      <th>3</th>\n",
              "      <td>[вслед, за, возвращен, бюджетн, прав, в, росс,...</td>\n",
              "      <td>2</td>\n",
              "    </tr>\n",
              "    <tr>\n",
              "      <th>4</th>\n",
              "      <td>[сбер, зафиксирова, годов, обва, приб, на, в, ...</td>\n",
              "      <td>0</td>\n",
              "    </tr>\n",
              "  </tbody>\n",
              "</table>\n",
              "</div>\n",
              "    <div class=\"colab-df-buttons\">\n",
              "\n",
              "  <div class=\"colab-df-container\">\n",
              "    <button class=\"colab-df-convert\" onclick=\"convertToInteractive('df-33cdacab-6854-403d-81ef-053b0e7a2def')\"\n",
              "            title=\"Convert this dataframe to an interactive table.\"\n",
              "            style=\"display:none;\">\n",
              "\n",
              "  <svg xmlns=\"http://www.w3.org/2000/svg\" height=\"24px\" viewBox=\"0 -960 960 960\">\n",
              "    <path d=\"M120-120v-720h720v720H120Zm60-500h600v-160H180v160Zm220 220h160v-160H400v160Zm0 220h160v-160H400v160ZM180-400h160v-160H180v160Zm440 0h160v-160H620v160ZM180-180h160v-160H180v160Zm440 0h160v-160H620v160Z\"/>\n",
              "  </svg>\n",
              "    </button>\n",
              "\n",
              "  <style>\n",
              "    .colab-df-container {\n",
              "      display:flex;\n",
              "      gap: 12px;\n",
              "    }\n",
              "\n",
              "    .colab-df-convert {\n",
              "      background-color: #E8F0FE;\n",
              "      border: none;\n",
              "      border-radius: 50%;\n",
              "      cursor: pointer;\n",
              "      display: none;\n",
              "      fill: #1967D2;\n",
              "      height: 32px;\n",
              "      padding: 0 0 0 0;\n",
              "      width: 32px;\n",
              "    }\n",
              "\n",
              "    .colab-df-convert:hover {\n",
              "      background-color: #E2EBFA;\n",
              "      box-shadow: 0px 1px 2px rgba(60, 64, 67, 0.3), 0px 1px 3px 1px rgba(60, 64, 67, 0.15);\n",
              "      fill: #174EA6;\n",
              "    }\n",
              "\n",
              "    .colab-df-buttons div {\n",
              "      margin-bottom: 4px;\n",
              "    }\n",
              "\n",
              "    [theme=dark] .colab-df-convert {\n",
              "      background-color: #3B4455;\n",
              "      fill: #D2E3FC;\n",
              "    }\n",
              "\n",
              "    [theme=dark] .colab-df-convert:hover {\n",
              "      background-color: #434B5C;\n",
              "      box-shadow: 0px 1px 3px 1px rgba(0, 0, 0, 0.15);\n",
              "      filter: drop-shadow(0px 1px 2px rgba(0, 0, 0, 0.3));\n",
              "      fill: #FFFFFF;\n",
              "    }\n",
              "  </style>\n",
              "\n",
              "    <script>\n",
              "      const buttonEl =\n",
              "        document.querySelector('#df-33cdacab-6854-403d-81ef-053b0e7a2def button.colab-df-convert');\n",
              "      buttonEl.style.display =\n",
              "        google.colab.kernel.accessAllowed ? 'block' : 'none';\n",
              "\n",
              "      async function convertToInteractive(key) {\n",
              "        const element = document.querySelector('#df-33cdacab-6854-403d-81ef-053b0e7a2def');\n",
              "        const dataTable =\n",
              "          await google.colab.kernel.invokeFunction('convertToInteractive',\n",
              "                                                    [key], {});\n",
              "        if (!dataTable) return;\n",
              "\n",
              "        const docLinkHtml = 'Like what you see? Visit the ' +\n",
              "          '<a target=\"_blank\" href=https://colab.research.google.com/notebooks/data_table.ipynb>data table notebook</a>'\n",
              "          + ' to learn more about interactive tables.';\n",
              "        element.innerHTML = '';\n",
              "        dataTable['output_type'] = 'display_data';\n",
              "        await google.colab.output.renderOutput(dataTable, element);\n",
              "        const docLink = document.createElement('div');\n",
              "        docLink.innerHTML = docLinkHtml;\n",
              "        element.appendChild(docLink);\n",
              "      }\n",
              "    </script>\n",
              "  </div>\n",
              "\n",
              "\n",
              "    <div id=\"df-f57bb0e8-a504-47f4-84db-64911f0c9124\">\n",
              "      <button class=\"colab-df-quickchart\" onclick=\"quickchart('df-f57bb0e8-a504-47f4-84db-64911f0c9124')\"\n",
              "                title=\"Suggest charts\"\n",
              "                style=\"display:none;\">\n",
              "\n",
              "<svg xmlns=\"http://www.w3.org/2000/svg\" height=\"24px\"viewBox=\"0 0 24 24\"\n",
              "     width=\"24px\">\n",
              "    <g>\n",
              "        <path d=\"M19 3H5c-1.1 0-2 .9-2 2v14c0 1.1.9 2 2 2h14c1.1 0 2-.9 2-2V5c0-1.1-.9-2-2-2zM9 17H7v-7h2v7zm4 0h-2V7h2v10zm4 0h-2v-4h2v4z\"/>\n",
              "    </g>\n",
              "</svg>\n",
              "      </button>\n",
              "\n",
              "<style>\n",
              "  .colab-df-quickchart {\n",
              "      --bg-color: #E8F0FE;\n",
              "      --fill-color: #1967D2;\n",
              "      --hover-bg-color: #E2EBFA;\n",
              "      --hover-fill-color: #174EA6;\n",
              "      --disabled-fill-color: #AAA;\n",
              "      --disabled-bg-color: #DDD;\n",
              "  }\n",
              "\n",
              "  [theme=dark] .colab-df-quickchart {\n",
              "      --bg-color: #3B4455;\n",
              "      --fill-color: #D2E3FC;\n",
              "      --hover-bg-color: #434B5C;\n",
              "      --hover-fill-color: #FFFFFF;\n",
              "      --disabled-bg-color: #3B4455;\n",
              "      --disabled-fill-color: #666;\n",
              "  }\n",
              "\n",
              "  .colab-df-quickchart {\n",
              "    background-color: var(--bg-color);\n",
              "    border: none;\n",
              "    border-radius: 50%;\n",
              "    cursor: pointer;\n",
              "    display: none;\n",
              "    fill: var(--fill-color);\n",
              "    height: 32px;\n",
              "    padding: 0;\n",
              "    width: 32px;\n",
              "  }\n",
              "\n",
              "  .colab-df-quickchart:hover {\n",
              "    background-color: var(--hover-bg-color);\n",
              "    box-shadow: 0 1px 2px rgba(60, 64, 67, 0.3), 0 1px 3px 1px rgba(60, 64, 67, 0.15);\n",
              "    fill: var(--button-hover-fill-color);\n",
              "  }\n",
              "\n",
              "  .colab-df-quickchart-complete:disabled,\n",
              "  .colab-df-quickchart-complete:disabled:hover {\n",
              "    background-color: var(--disabled-bg-color);\n",
              "    fill: var(--disabled-fill-color);\n",
              "    box-shadow: none;\n",
              "  }\n",
              "\n",
              "  .colab-df-spinner {\n",
              "    border: 2px solid var(--fill-color);\n",
              "    border-color: transparent;\n",
              "    border-bottom-color: var(--fill-color);\n",
              "    animation:\n",
              "      spin 1s steps(1) infinite;\n",
              "  }\n",
              "\n",
              "  @keyframes spin {\n",
              "    0% {\n",
              "      border-color: transparent;\n",
              "      border-bottom-color: var(--fill-color);\n",
              "      border-left-color: var(--fill-color);\n",
              "    }\n",
              "    20% {\n",
              "      border-color: transparent;\n",
              "      border-left-color: var(--fill-color);\n",
              "      border-top-color: var(--fill-color);\n",
              "    }\n",
              "    30% {\n",
              "      border-color: transparent;\n",
              "      border-left-color: var(--fill-color);\n",
              "      border-top-color: var(--fill-color);\n",
              "      border-right-color: var(--fill-color);\n",
              "    }\n",
              "    40% {\n",
              "      border-color: transparent;\n",
              "      border-right-color: var(--fill-color);\n",
              "      border-top-color: var(--fill-color);\n",
              "    }\n",
              "    60% {\n",
              "      border-color: transparent;\n",
              "      border-right-color: var(--fill-color);\n",
              "    }\n",
              "    80% {\n",
              "      border-color: transparent;\n",
              "      border-right-color: var(--fill-color);\n",
              "      border-bottom-color: var(--fill-color);\n",
              "    }\n",
              "    90% {\n",
              "      border-color: transparent;\n",
              "      border-bottom-color: var(--fill-color);\n",
              "    }\n",
              "  }\n",
              "</style>\n",
              "\n",
              "      <script>\n",
              "        async function quickchart(key) {\n",
              "          const quickchartButtonEl =\n",
              "            document.querySelector('#' + key + ' button');\n",
              "          quickchartButtonEl.disabled = true;  // To prevent multiple clicks.\n",
              "          quickchartButtonEl.classList.add('colab-df-spinner');\n",
              "          try {\n",
              "            const charts = await google.colab.kernel.invokeFunction(\n",
              "                'suggestCharts', [key], {});\n",
              "          } catch (error) {\n",
              "            console.error('Error during call to suggestCharts:', error);\n",
              "          }\n",
              "          quickchartButtonEl.classList.remove('colab-df-spinner');\n",
              "          quickchartButtonEl.classList.add('colab-df-quickchart-complete');\n",
              "        }\n",
              "        (() => {\n",
              "          let quickchartButtonEl =\n",
              "            document.querySelector('#df-f57bb0e8-a504-47f4-84db-64911f0c9124 button');\n",
              "          quickchartButtonEl.style.display =\n",
              "            google.colab.kernel.accessAllowed ? 'block' : 'none';\n",
              "        })();\n",
              "      </script>\n",
              "    </div>\n",
              "    </div>\n",
              "  </div>\n"
            ],
            "application/vnd.google.colaboratory.intrinsic+json": {
              "type": "dataframe",
              "variable_name": "df_copy",
              "summary": "{\n  \"name\": \"df_copy\",\n  \"rows\": 18107,\n  \"fields\": [\n    {\n      \"column\": \"summarized_text\",\n      \"properties\": {\n        \"dtype\": \"object\",\n        \"semantic_type\": \"\",\n        \"description\": \"\"\n      }\n    },\n    {\n      \"column\": \"summarized_text_sentiment_label\",\n      \"properties\": {\n        \"dtype\": \"number\",\n        \"std\": 0,\n        \"min\": 0,\n        \"max\": 2,\n        \"num_unique_values\": 3,\n        \"samples\": [\n          0,\n          1,\n          2\n        ],\n        \"semantic_type\": \"\",\n        \"description\": \"\"\n      }\n    }\n  ]\n}"
            }
          },
          "metadata": {},
          "execution_count": 16
        }
      ]
    },
    {
      "cell_type": "code",
      "source": [
        "df_copy1=df_copy.copy()"
      ],
      "metadata": {
        "id": "7YwLirwJ4_xb"
      },
      "execution_count": 17,
      "outputs": []
    },
    {
      "cell_type": "markdown",
      "source": [
        "### Векторизация(частотная)"
      ],
      "metadata": {
        "id": "xy2imblx4KiD"
      }
    },
    {
      "cell_type": "markdown",
      "source": [
        "### Переводим текст в числа с помощью метода \"Мешок слов\" (Bag of Words, BoW)\n",
        "\n",
        "**Определение:**  \n",
        "**Мешок слов** — это метод векторного представления текста, где текст рассматривается как неупорядоченный набор (мешок) слов без учета грамматики, порядка слов, но с учетом частоты их встречаемости. Каждый документ (текст) преобразуется в вектор чисел, где каждое число соответствует частоте определенного слова в словаре."
      ],
      "metadata": {
        "id": "7n8lDAZ75_lk"
      }
    },
    {
      "cell_type": "code",
      "source": [
        "from sklearn.feature_extraction.text import CountVectorizer\n",
        "# преобразуем список слов в строки, разделенные пробелами\n",
        "df_copy['summarized_text'] = df_copy['summarized_text'].apply(lambda x: ' '.join(x))\n",
        "count_vect = CountVectorizer()\n",
        "counts = count_vect.fit_transform(df_copy['summarized_text'])"
      ],
      "metadata": {
        "id": "SLoSsXXX59wW"
      },
      "execution_count": 18,
      "outputs": []
    },
    {
      "cell_type": "code",
      "source": [
        "counts.shape"
      ],
      "metadata": {
        "colab": {
          "base_uri": "https://localhost:8080/"
        },
        "id": "j6vhpnLo6Bye",
        "outputId": "2cd61388-1910-4ff1-c2b1-e1d3c371fe23"
      },
      "execution_count": 19,
      "outputs": [
        {
          "output_type": "execute_result",
          "data": {
            "text/plain": [
              "(18107, 12411)"
            ]
          },
          "metadata": {},
          "execution_count": 19
        }
      ]
    },
    {
      "cell_type": "markdown",
      "source": [
        "### Обучение моделей."
      ],
      "metadata": {
        "id": "GS0OUdrW4QaS"
      }
    },
    {
      "cell_type": "markdown",
      "source": [
        "**Разбиваем выборку на обучающую и тестовую**"
      ],
      "metadata": {
        "id": "HtmaB4d-6HV8"
      }
    },
    {
      "cell_type": "code",
      "source": [
        "from sklearn.model_selection import train_test_split\n",
        "X_train, X_test, y_train, y_test = train_test_split(counts, df_copy['summarized_text_sentiment_label'], test_size=0.25)"
      ],
      "metadata": {
        "id": "CiTebePM6Da1"
      },
      "execution_count": 20,
      "outputs": []
    },
    {
      "cell_type": "markdown",
      "source": [
        "### Пробуем обучение на модели \"Дерево решений\" (Decision Tree)\n",
        "\n",
        "**Определение:**  \n",
        "**Дерево решений** — это алгоритм машинного обучения для задач классификации и регрессии, который строит иерархическую структуру правил вида \"если-то\", разбивая данные на подмножества на основе значений признаков. Каждый внутренний узел дерева соответствует условию (признаку), каждая ветвь — возможному значению признака, а каждый лист — предсказанному классу (например, тональности `negative/neutral/positive`)."
      ],
      "metadata": {
        "id": "wQjbAPdV6NBc"
      }
    },
    {
      "cell_type": "code",
      "source": [
        "from sklearn.tree import DecisionTreeClassifier\n",
        "from sklearn.model_selection import GridSearchCV\n",
        "from sklearn.metrics import accuracy_score, precision_score, recall_score, f1_score, roc_auc_score, confusion_matrix\n",
        "\n",
        "param_grid = {\n",
        "    'max_depth': [100, 150, 200]  # Возможные значения для максимальной глубины\n",
        "}\n",
        "\n",
        "# Построение дерева решений\n",
        "dectree = DecisionTreeClassifier(random_state=21)\n",
        "# Создание GridSearchCV\n",
        "grid_search = GridSearchCV(estimator=dectree, param_grid=param_grid, cv=5, scoring='accuracy', n_jobs=-1)\n",
        "grid_search.fit(X_train, y_train)\n",
        "\n",
        "print(\"Best Parameters:\", grid_search.best_params_)\n",
        "# Обучение на обучающей выборке\n",
        "best_dectree = grid_search.best_estimator_\n",
        "y_train_pred = best_dectree.predict(X_train)\n",
        "y_test_pred = best_dectree.predict(X_test)"
      ],
      "metadata": {
        "colab": {
          "base_uri": "https://localhost:8080/"
        },
        "id": "_QKgGhlA6LJy",
        "outputId": "829902e6-4dcf-44b7-b5a8-1c49d77333fa"
      },
      "execution_count": 21,
      "outputs": [
        {
          "output_type": "stream",
          "name": "stdout",
          "text": [
            "Best Parameters: {'max_depth': 150}\n"
          ]
        }
      ]
    },
    {
      "cell_type": "code",
      "source": [
        "from sklearn.metrics import classification_report\n",
        "print(classification_report(y_test, y_test_pred))"
      ],
      "metadata": {
        "id": "MDqlbyQ81Dk2",
        "colab": {
          "base_uri": "https://localhost:8080/"
        },
        "outputId": "54e0e5e1-aee0-4b31-a7fe-a1bf2f4b642b"
      },
      "execution_count": 22,
      "outputs": [
        {
          "output_type": "stream",
          "name": "stdout",
          "text": [
            "              precision    recall  f1-score   support\n",
            "\n",
            "           0       0.53      0.50      0.51      1041\n",
            "           1       0.62      0.66      0.64      1600\n",
            "           2       0.67      0.65      0.66      1886\n",
            "\n",
            "    accuracy                           0.62      4527\n",
            "   macro avg       0.61      0.61      0.61      4527\n",
            "weighted avg       0.62      0.62      0.62      4527\n",
            "\n"
          ]
        }
      ]
    },
    {
      "cell_type": "markdown",
      "source": [
        "**Вывод:** Метрика получилась неочень большой, значит пробуем другие модели."
      ],
      "metadata": {
        "id": "mC3hec1h7WXl"
      }
    },
    {
      "cell_type": "markdown",
      "source": [
        "### Пробуем модель \"Случайный лес\" (Random Forest)\n",
        "\n",
        "**Определение:**\n",
        "**Случайный лес** — это ансамблевый алгоритм машинного обучения, который строит множество деревьев решений (обычно десятки или сотни) и объединяет их предсказания для получения более точного и стабильного результата. Каждое дерево в лесе обучается на случайном подмножестве данных (бутстрэп-выборка) и рассматривает случайное подмножество признаков при каждом разбиении. Итоговое предсказание определяется путем голосования (для классификации) или усреднения (для регрессии) всех деревьев."
      ],
      "metadata": {
        "id": "h4mRucnD7ZNl"
      }
    },
    {
      "cell_type": "code",
      "source": [
        "from sklearn.model_selection import GridSearchCV\n",
        "from sklearn.ensemble import RandomForestClassifier\n",
        "\n",
        "rfc = RandomForestClassifier(random_state=21)\n",
        "# Определение параметров для поиска с увеличенным количеством значений\n",
        "param_grid = {\n",
        "    'n_estimators': [10, 50, 100, 150, 200],  # Значений для количества деревьев\n",
        "    'max_depth': [ 5, 10, 15],  # Значений для максимальной глубины\n",
        "    'min_samples_split': [2, 5, 10],  # Минимальное число samples для разделения узла\n",
        "    'min_samples_leaf': [1, 2, 4]     # Минимальное число samples в листе\n",
        "}\n",
        "\n",
        "# Создание GridSearchCV\n",
        "grid_search = GridSearchCV(estimator=rfc, param_grid=param_grid, cv=5, scoring='accuracy', n_jobs=-1)\n",
        "\n",
        "# Поиск наилучших параметров\n",
        "grid_search.fit(X_train, y_train)\n",
        "\n",
        "# Вывод наилучших параметров и оценки\n",
        "print(\"Best Parameters:\", grid_search.best_params_)\n",
        "\n",
        "# Использование наилучшей модели для предсказаний\n",
        "best_rfc = grid_search.best_estimator_\n",
        "rfc_train_pred = best_rfc.predict(X_train)\n",
        "rfc_test_pred = best_rfc.predict(X_test)"
      ],
      "metadata": {
        "colab": {
          "base_uri": "https://localhost:8080/"
        },
        "id": "VhqhTV8h7U2-",
        "outputId": "51c642e2-9bfc-4543-948b-3139ca895dd7"
      },
      "execution_count": 23,
      "outputs": [
        {
          "output_type": "stream",
          "name": "stdout",
          "text": [
            "Best Parameters: {'max_depth': 15, 'min_samples_leaf': 1, 'min_samples_split': 5, 'n_estimators': 200}\n"
          ]
        }
      ]
    },
    {
      "cell_type": "code",
      "source": [
        "print(classification_report(y_test, rfc_test_pred))"
      ],
      "metadata": {
        "id": "72N3a6Zg1SUU",
        "colab": {
          "base_uri": "https://localhost:8080/"
        },
        "outputId": "35fe3db1-6b59-4bfd-c238-2f03bfc6c03f"
      },
      "execution_count": 24,
      "outputs": [
        {
          "output_type": "stream",
          "name": "stdout",
          "text": [
            "              precision    recall  f1-score   support\n",
            "\n",
            "           0       0.89      0.09      0.17      1041\n",
            "           1       0.65      0.71      0.68      1600\n",
            "           2       0.61      0.85      0.71      1886\n",
            "\n",
            "    accuracy                           0.63      4527\n",
            "   macro avg       0.71      0.55      0.52      4527\n",
            "weighted avg       0.69      0.63      0.57      4527\n",
            "\n"
          ]
        }
      ]
    },
    {
      "cell_type": "markdown",
      "source": [
        "**Вывод:** Метрика небольшая, значит пробуем другой метод."
      ],
      "metadata": {
        "id": "UXsksQQrAiGV"
      }
    },
    {
      "cell_type": "markdown",
      "source": [
        "### Пробуем наивный байесовский классификатор (Naive Bayes)\n",
        "\n",
        "**Определение:**\n",
        "**Наивный байесовский классификатор** — это вероятностный алгоритм машинного обучения, основанный на теореме Байеса с предположением о независимости признаков (отсюда \"наивный\"). Для текстовых данных он вычисляет вероятность принадлежности текста к определенному классу (например, тональности) на основе частоты встречаемости слов."
      ],
      "metadata": {
        "id": "3qtFckT7Akjl"
      }
    },
    {
      "cell_type": "code",
      "source": [
        "from sklearn.naive_bayes import MultinomialNB\n",
        "model = MultinomialNB().fit(X_train, y_train)"
      ],
      "metadata": {
        "id": "UTpX12s4AhF7"
      },
      "execution_count": 28,
      "outputs": []
    },
    {
      "cell_type": "code",
      "source": [
        "predictions = model.predict(X_test)"
      ],
      "metadata": {
        "id": "0OEv3ZiwAmWB"
      },
      "execution_count": 29,
      "outputs": []
    },
    {
      "cell_type": "code",
      "source": [
        "print(classification_report(y_test, predictions))"
      ],
      "metadata": {
        "id": "NQWC_M6XnAoq",
        "colab": {
          "base_uri": "https://localhost:8080/"
        },
        "outputId": "526e6dbd-a726-4440-fb96-96cf3c16a166"
      },
      "execution_count": 30,
      "outputs": [
        {
          "output_type": "stream",
          "name": "stdout",
          "text": [
            "              precision    recall  f1-score   support\n",
            "\n",
            "           0       0.58      0.59      0.58      1041\n",
            "           1       0.73      0.71      0.72      1600\n",
            "           2       0.74      0.75      0.74      1886\n",
            "\n",
            "    accuracy                           0.70      4527\n",
            "   macro avg       0.68      0.68      0.68      4527\n",
            "weighted avg       0.70      0.70      0.70      4527\n",
            "\n"
          ]
        }
      ]
    },
    {
      "cell_type": "code",
      "source": [
        "from sklearn.metrics import ConfusionMatrixDisplay\n",
        "from sklearn.metrics import confusion_matrix\n",
        "cm = confusion_matrix(y_test, predictions, labels=model.classes_)\n",
        "cm_display = ConfusionMatrixDisplay(confusion_matrix=cm, display_labels=model.classes_)\n",
        "cm_display.plot()"
      ],
      "metadata": {
        "colab": {
          "base_uri": "https://localhost:8080/",
          "height": 468
        },
        "id": "5MA5JZf0AoPm",
        "outputId": "3beb4ab6-1e47-4d35-8370-535703591c31"
      },
      "execution_count": 31,
      "outputs": [
        {
          "output_type": "execute_result",
          "data": {
            "text/plain": [
              "<sklearn.metrics._plot.confusion_matrix.ConfusionMatrixDisplay at 0x79ff35e8a8d0>"
            ]
          },
          "metadata": {},
          "execution_count": 31
        },
        {
          "output_type": "display_data",
          "data": {
            "text/plain": [
              "<Figure size 640x480 with 2 Axes>"
            ],
            "image/png": "[encoded data removed]"
          },
          "metadata": {}
        }
      ]
    },
    {
      "cell_type": "markdown",
      "source": [
        "**Вывод:** Метрики стали лучше, но попробуем еще модели."
      ],
      "metadata": {
        "id": "YkP4eYAtAzA9"
      }
    },
    {
      "cell_type": "markdown",
      "source": [
        "### Пробуем SGDClassifier\n",
        "\n",
        "**Определение:**\n",
        "**SGDClassifier** — это линейный классификатор, который использует метод стохастического градиентного спуска (Stochastic Gradient Descent) для обучения модели. Этот метод оптимизации обновляет веса модели итеративно, используя одно или несколько обучающих примеров за раз, что делает его эффективным для работы с большими наборами данных. SGDClassifier поддерживает различные функции потерь, такие как шарнирная потеря для SVM (Support Vector Machines), логистическая потеря для логистической регрессии и другие, что делает его универсальным инструментом для задач классификации."
      ],
      "metadata": {
        "id": "gtXsrFESA1Yt"
      }
    },
    {
      "cell_type": "code",
      "source": [
        "from sklearn.linear_model import SGDClassifier\n",
        "from sklearn.metrics import accuracy_score\n",
        "clf = SGDClassifier()\n",
        "clf.fit(X_train, y_train)\n",
        "predictions=clf.predict(X_test)"
      ],
      "metadata": {
        "id": "C1vivWOOAuXC"
      },
      "execution_count": 32,
      "outputs": []
    },
    {
      "cell_type": "code",
      "source": [
        "print(classification_report(y_test, predictions))"
      ],
      "metadata": {
        "id": "wGROLPfanICJ",
        "colab": {
          "base_uri": "https://localhost:8080/"
        },
        "outputId": "39b363ee-2738-4e92-9785-3d4ee293a77f"
      },
      "execution_count": 33,
      "outputs": [
        {
          "output_type": "stream",
          "name": "stdout",
          "text": [
            "              precision    recall  f1-score   support\n",
            "\n",
            "           0       0.73      0.70      0.72      1041\n",
            "           1       0.75      0.76      0.75      1600\n",
            "           2       0.81      0.82      0.81      1886\n",
            "\n",
            "    accuracy                           0.77      4527\n",
            "   macro avg       0.76      0.76      0.76      4527\n",
            "weighted avg       0.77      0.77      0.77      4527\n",
            "\n"
          ]
        }
      ]
    },
    {
      "cell_type": "code",
      "source": [
        "cm = confusion_matrix(y_test, predictions, labels=clf.classes_)\n",
        "cm_display = ConfusionMatrixDisplay(confusion_matrix=cm, display_labels=clf.classes_)\n",
        "cm_display.plot()"
      ],
      "metadata": {
        "colab": {
          "base_uri": "https://localhost:8080/",
          "height": 466
        },
        "id": "HamYYSsOA3kW",
        "outputId": "63934ae5-8a7c-4579-b55b-fb74b98f70e9"
      },
      "execution_count": 34,
      "outputs": [
        {
          "output_type": "execute_result",
          "data": {
            "text/plain": [
              "<sklearn.metrics._plot.confusion_matrix.ConfusionMatrixDisplay at 0x79ff361ddc50>"
            ]
          },
          "metadata": {},
          "execution_count": 34
        },
        {
          "output_type": "display_data",
          "data": {
            "text/plain": [
              "<Figure size 640x480 with 2 Axes>"
            ],
            "image/png": "[encoded data removed]"
          },
          "metadata": {}
        }
      ]
    },
    {
      "cell_type": "markdown",
      "source": [
        "# Результаты анализа моделей классификации\n",
        "\n",
        "## Лучшие модели:\n",
        "- **Наивный байесовский классификатор**\n",
        "- **Линейный классификатор**\n",
        "\n",
        "## Вывод:\n",
        "Данные модели показали наилучшие метрики, что делает их наиболее подходящими для решения данной задачи."
      ],
      "metadata": {
        "id": "-XiS_6vMA8Dc"
      }
    },
    {
      "cell_type": "markdown",
      "source": [
        "### Векторизация(семантическая)"
      ],
      "metadata": {
        "id": "h7ldvH5F4WZi"
      }
    },
    {
      "cell_type": "markdown",
      "source": [
        "Переходим к семантической векторизации методом `Word2Vec`. После предобработки я скопировала датасет, а только после этого применяла частоную векторизацию, поэтому здесь работаю с предобработаным датасетом, к кторому осталось только применить другую векторизацию."
      ],
      "metadata": {
        "id": "Ndxo-epM0c7T"
      }
    },
    {
      "cell_type": "code",
      "source": [
        "from gensim.models import Word2Vec\n",
        "sentences = df_copy1['summarized_text'].tolist()\n",
        "w2v_model = Word2Vec(sentences, window=5, min_count=5, workers=4)\n",
        "def vectorize(sentence):\n",
        "    words_vecs = [w2v_model.wv[word] for word in sentence if word in w2v_model.wv]\n",
        "\n",
        "    if len(words_vecs) == 0:\n",
        "        return np.zeros(100)\n",
        "\n",
        "    words_vecs = np.array(words_vecs)\n",
        "    return words_vecs.mean(axis=0)"
      ],
      "metadata": {
        "id": "JLgYHcVtA5SM"
      },
      "execution_count": 35,
      "outputs": []
    },
    {
      "cell_type": "code",
      "source": [
        "!pip uninstall -y gensim scipy numpy\n",
        "!pip install scipy==1.10.1 numpy==1.23.5 gensim==4.3.2"
      ],
      "metadata": {
        "colab": {
          "base_uri": "https://localhost:8080/",
          "height": 859
        },
        "id": "fh3mjaP7-bTM",
        "outputId": "8deb1a6d-9ae4-4228-a68e-4b23cb819365"
      },
      "execution_count": 32,
      "outputs": [
        {
          "output_type": "stream",
          "name": "stdout",
          "text": [
            "\u001b[33mWARNING: Skipping gensim as it is not installed.\u001b[0m\u001b[33m\n",
            "\u001b[0mFound existing installation: scipy 1.15.2\n",
            "Uninstalling scipy-1.15.2:\n",
            "  Successfully uninstalled scipy-1.15.2\n",
            "Found existing installation: numpy 2.0.2\n",
            "Uninstalling numpy-2.0.2:\n",
            "  Successfully uninstalled numpy-2.0.2\n",
            "Collecting scipy==1.10.1\n",
            "  Downloading scipy-1.10.1-cp311-cp311-manylinux_2_17_x86_64.manylinux2014_x86_64.whl.metadata (58 kB)\n",
            "\u001b[2K     \u001b[90m━━━━━━━━━━━━━━━━━━━━━━━━━━━━━━━━━━━━━━━━\u001b[0m \u001b[32m58.9/58.9 kB\u001b[0m \u001b[31m2.2 MB/s\u001b[0m eta \u001b[36m0:00:00\u001b[0m\n",
            "\u001b[?25hCollecting numpy==1.23.5\n",
            "  Downloading numpy-1.23.5-cp311-cp311-manylinux_2_17_x86_64.manylinux2014_x86_64.whl.metadata (2.3 kB)\n",
            "Collecting gensim==4.3.2\n",
            "  Downloading gensim-4.3.2-cp311-cp311-manylinux_2_17_x86_64.manylinux2014_x86_64.whl.metadata (8.3 kB)\n",
            "Requirement already satisfied: smart-open>=1.8.1 in /usr/local/lib/python3.11/dist-packages (from gensim==4.3.2) (7.1.0)\n",
            "Requirement already satisfied: wrapt in /usr/local/lib/python3.11/dist-packages (from smart-open>=1.8.1->gensim==4.3.2) (1.17.2)\n",
            "Downloading scipy-1.10.1-cp311-cp311-manylinux_2_17_x86_64.manylinux2014_x86_64.whl (34.1 MB)\n",
            "\u001b[2K   \u001b[90m━━━━━━━━━━━━━━━━━━━━━━━━━━━━━━━━━━━━━━━━\u001b[0m \u001b[32m34.1/34.1 MB\u001b[0m \u001b[31m31.2 MB/s\u001b[0m eta \u001b[36m0:00:00\u001b[0m\n",
            "\u001b[?25hDownloading numpy-1.23.5-cp311-cp311-manylinux_2_17_x86_64.manylinux2014_x86_64.whl (17.1 MB)\n",
            "\u001b[2K   \u001b[90m━━━━━━━━━━━━━━━━━━━━━━━━━━━━━━━━━━━━━━━━\u001b[0m \u001b[32m17.1/17.1 MB\u001b[0m \u001b[31m46.2 MB/s\u001b[0m eta \u001b[36m0:00:00\u001b[0m\n",
            "\u001b[?25hDownloading gensim-4.3.2-cp311-cp311-manylinux_2_17_x86_64.manylinux2014_x86_64.whl (26.7 MB)\n",
            "\u001b[2K   \u001b[90m━━━━━━━━━━━━━━━━━━━━━━━━━━━━━━━━━━━━━━━━\u001b[0m \u001b[32m26.7/26.7 MB\u001b[0m \u001b[31m10.9 MB/s\u001b[0m eta \u001b[36m0:00:00\u001b[0m\n",
            "\u001b[?25hInstalling collected packages: numpy, scipy, gensim\n",
            "\u001b[31mERROR: pip's dependency resolver does not currently take into account all the packages that are installed. This behaviour is the source of the following dependency conflicts.\n",
            "blosc2 3.3.2 requires numpy>=1.26, but you have numpy 1.23.5 which is incompatible.\n",
            "imbalanced-learn 0.13.0 requires numpy<3,>=1.24.3, but you have numpy 1.23.5 which is incompatible.\n",
            "thinc 8.3.6 requires numpy<3.0.0,>=2.0.0, but you have numpy 1.23.5 which is incompatible.\n",
            "treescope 0.1.9 requires numpy>=1.25.2, but you have numpy 1.23.5 which is incompatible.\n",
            "scikit-image 0.25.2 requires numpy>=1.24, but you have numpy 1.23.5 which is incompatible.\n",
            "scikit-image 0.25.2 requires scipy>=1.11.4, but you have scipy 1.10.1 which is incompatible.\n",
            "bigframes 2.1.0 requires numpy>=1.24.0, but you have numpy 1.23.5 which is incompatible.\n",
            "xarray 2025.3.1 requires numpy>=1.24, but you have numpy 1.23.5 which is incompatible.\n",
            "pymc 5.22.0 requires numpy>=1.25.0, but you have numpy 1.23.5 which is incompatible.\n",
            "albumentations 2.0.6 requires numpy>=1.24.4, but you have numpy 1.23.5 which is incompatible.\n",
            "albucore 0.0.24 requires numpy>=1.24.4, but you have numpy 1.23.5 which is incompatible.\n",
            "tensorflow 2.18.0 requires numpy<2.1.0,>=1.26.0, but you have numpy 1.23.5 which is incompatible.\n",
            "jax 0.5.2 requires numpy>=1.25, but you have numpy 1.23.5 which is incompatible.\n",
            "jax 0.5.2 requires scipy>=1.11.1, but you have scipy 1.10.1 which is incompatible.\n",
            "jaxlib 0.5.1 requires numpy>=1.25, but you have numpy 1.23.5 which is incompatible.\n",
            "jaxlib 0.5.1 requires scipy>=1.11.1, but you have scipy 1.10.1 which is incompatible.\n",
            "cvxpy 1.6.5 requires scipy>=1.11.0, but you have scipy 1.10.1 which is incompatible.\n",
            "chex 0.1.89 requires numpy>=1.24.1, but you have numpy 1.23.5 which is incompatible.\u001b[0m\u001b[31m\n",
            "\u001b[0mSuccessfully installed gensim-4.3.2 numpy-1.23.5 scipy-1.10.1\n"
          ]
        },
        {
          "output_type": "display_data",
          "data": {
            "application/vnd.colab-display-data+json": {
              "pip_warning": {
                "packages": [
                  "numpy"
                ]
              },
              "id": "c6d3b2f530e448bab904cd173aec8342"
            }
          },
          "metadata": {}
        }
      ]
    },
    {
      "cell_type": "code",
      "source": [
        "from scipy.linalg import triu  # Проверка импорта SciPy\n",
        "from gensim.models import Word2Vec  # Проверка импорта Gensim\n",
        "print(\"Все импортируется успешно!\")"
      ],
      "metadata": {
        "colab": {
          "base_uri": "https://localhost:8080/"
        },
        "id": "f6jUkZsi-pob",
        "outputId": "6efa2b14-7988-4201-d7da-5b4a701bc637"
      },
      "execution_count": 1,
      "outputs": [
        {
          "output_type": "stream",
          "name": "stdout",
          "text": [
            "Все импортируется успешно!\n"
          ]
        }
      ]
    },
    {
      "cell_type": "markdown",
      "source": [
        "**Применяем семантическую векторизацию**"
      ],
      "metadata": {
        "id": "0MCuMSmp06nE"
      }
    },
    {
      "cell_type": "code",
      "source": [
        "X = np.array([vectorize(sentence) for sentence in df_copy1['summarized_text']])"
      ],
      "metadata": {
        "id": "sacuodvoF7pk"
      },
      "execution_count": 36,
      "outputs": []
    },
    {
      "cell_type": "markdown",
      "source": [
        "**Разбиваем выборку на тренировочную и обучающую**"
      ],
      "metadata": {
        "id": "yrsVteZG1A6K"
      }
    },
    {
      "cell_type": "code",
      "source": [
        "X_train, X_test, y_train, y_test = train_test_split(X, df_copy1['summarized_text_sentiment_label'], test_size=0.25)"
      ],
      "metadata": {
        "id": "rUn21ZlEbEwe"
      },
      "execution_count": 37,
      "outputs": []
    },
    {
      "cell_type": "markdown",
      "source": [
        "**Строим модель линейного классификатора, так как она оказалась лучшей**"
      ],
      "metadata": {
        "id": "7qYUbsoO1dIb"
      }
    },
    {
      "cell_type": "code",
      "source": [
        "clf = SGDClassifier()\n",
        "clf.fit(X_train, y_train)\n",
        "predictions=clf.predict(X_test)"
      ],
      "metadata": {
        "id": "V2px2G70cVkc"
      },
      "execution_count": 38,
      "outputs": []
    },
    {
      "cell_type": "code",
      "source": [
        "print(classification_report(y_test, predictions))"
      ],
      "metadata": {
        "id": "PJwDHXd_1tqL",
        "colab": {
          "base_uri": "https://localhost:8080/"
        },
        "outputId": "4085735d-4724-429b-9df3-04ed828539ef"
      },
      "execution_count": 39,
      "outputs": [
        {
          "output_type": "stream",
          "name": "stdout",
          "text": [
            "              precision    recall  f1-score   support\n",
            "\n",
            "           0       0.51      0.44      0.47      1072\n",
            "           1       0.65      0.70      0.67      1546\n",
            "           2       0.69      0.69      0.69      1909\n",
            "\n",
            "    accuracy                           0.64      4527\n",
            "   macro avg       0.61      0.61      0.61      4527\n",
            "weighted avg       0.63      0.64      0.63      4527\n",
            "\n"
          ]
        }
      ]
    },
    {
      "cell_type": "code",
      "source": [
        "cm = confusion_matrix(y_test, predictions, labels=clf.classes_)\n",
        "cm_display = ConfusionMatrixDisplay(confusion_matrix=cm, display_labels=clf.classes_)\n",
        "cm_display.plot()"
      ],
      "metadata": {
        "colab": {
          "base_uri": "https://localhost:8080/",
          "height": 466
        },
        "id": "xAKeZkKIcZMD",
        "outputId": "bb775f35-4265-4fc0-aeba-0630039b53d1"
      },
      "execution_count": 40,
      "outputs": [
        {
          "output_type": "execute_result",
          "data": {
            "text/plain": [
              "<sklearn.metrics._plot.confusion_matrix.ConfusionMatrixDisplay at 0x79ff361e7750>"
            ]
          },
          "metadata": {},
          "execution_count": 40
        },
        {
          "output_type": "display_data",
          "data": {
            "text/plain": [
              "<Figure size 640x480 with 2 Axes>"
            ],
            "image/png": "[encoded data removed]"
          },
          "metadata": {}
        }
      ]
    },
    {
      "cell_type": "markdown",
      "source": [
        "**Вывод:** Получилась маленькая точность, что означает, что для данного набора данных не подходит семантическая векторизация."
      ],
      "metadata": {
        "id": "chJPCHCl1wZC"
      }
    },
    {
      "cell_type": "markdown",
      "source": [
        "### Встроенная библиотека catboost"
      ],
      "metadata": {
        "id": "MUNXWdVI4bbz"
      }
    },
    {
      "cell_type": "markdown",
      "source": [
        "Также в Python есть встроенные библиотеки, которые не требуют предобработки датасета. Восполльзуемся одной из них catboost."
      ],
      "metadata": {
        "id": "qF10uPdF1xwK"
      }
    },
    {
      "cell_type": "markdown",
      "source": [
        "### Пробуем CatBoost\n",
        "\n",
        "**Определение:**\n",
        "**CatBoost** — это алгоритм градиентного бустинга, разработанный компанией Yandex. Он особенно эффективен для работы с категориальными признаками, что делает его популярным выбором для задач машинного обучения, где данные содержат много категориальных переменных. CatBoost автоматически обрабатывает категориальные признаки, что упрощает процесс предобработки данных.\n",
        "\n",
        "**Основные особенности:**\n",
        "- **Обработка категориальных признаков:** CatBoost автоматически кодирует категориальные признаки, что позволяет избежать ручной предобработки данных.\n",
        "- **Устойчивость к переобучению:** Алгоритм включает в себя различные методы для борьбы с переобучением, такие как регуляризация и случайное подпространство признаков.\n",
        "- **Высокая производительность:** CatBoost показывает высокую производительность на больших наборах данных и поддерживает распределенное обучение.\n",
        "- **Поддержка различных задач:** CatBoost может использоваться для задач классификации, регрессии и ранжирования."
      ],
      "metadata": {
        "id": "beFWjrSx2CVS"
      }
    },
    {
      "cell_type": "code",
      "source": [
        "!pip install catboost"
      ],
      "metadata": {
        "colab": {
          "base_uri": "https://localhost:8080/"
        },
        "id": "-bGcpLfueQyb",
        "outputId": "6537dca1-dbde-4815-c8d8-3494cb4fecb0"
      },
      "execution_count": 41,
      "outputs": [
        {
          "output_type": "stream",
          "name": "stdout",
          "text": [
            "Collecting catboost\n",
            "  Downloading catboost-1.2.8-cp311-cp311-manylinux2014_x86_64.whl.metadata (1.2 kB)\n",
            "Requirement already satisfied: graphviz in /usr/local/lib/python3.11/dist-packages (from catboost) (0.20.3)\n",
            "Requirement already satisfied: matplotlib in /usr/local/lib/python3.11/dist-packages (from catboost) (3.10.0)\n",
            "Requirement already satisfied: numpy<3.0,>=1.16.0 in /usr/local/lib/python3.11/dist-packages (from catboost) (1.23.5)\n",
            "Requirement already satisfied: pandas>=0.24 in /usr/local/lib/python3.11/dist-packages (from catboost) (2.2.2)\n",
            "Requirement already satisfied: scipy in /usr/local/lib/python3.11/dist-packages (from catboost) (1.10.1)\n",
            "Requirement already satisfied: plotly in /usr/local/lib/python3.11/dist-packages (from catboost) (5.24.1)\n",
            "Requirement already satisfied: six in /usr/local/lib/python3.11/dist-packages (from catboost) (1.17.0)\n",
            "Requirement already satisfied: python-dateutil>=2.8.2 in /usr/local/lib/python3.11/dist-packages (from pandas>=0.24->catboost) (2.9.0.post0)\n",
            "Requirement already satisfied: pytz>=2020.1 in /usr/local/lib/python3.11/dist-packages (from pandas>=0.24->catboost) (2025.2)\n",
            "Requirement already satisfied: tzdata>=2022.7 in /usr/local/lib/python3.11/dist-packages (from pandas>=0.24->catboost) (2025.2)\n",
            "Requirement already satisfied: contourpy>=1.0.1 in /usr/local/lib/python3.11/dist-packages (from matplotlib->catboost) (1.3.2)\n",
            "Requirement already satisfied: cycler>=0.10 in /usr/local/lib/python3.11/dist-packages (from matplotlib->catboost) (0.12.1)\n",
            "Requirement already satisfied: fonttools>=4.22.0 in /usr/local/lib/python3.11/dist-packages (from matplotlib->catboost) (4.57.0)\n",
            "Requirement already satisfied: kiwisolver>=1.3.1 in /usr/local/lib/python3.11/dist-packages (from matplotlib->catboost) (1.4.8)\n",
            "Requirement already satisfied: packaging>=20.0 in /usr/local/lib/python3.11/dist-packages (from matplotlib->catboost) (24.2)\n",
            "Requirement already satisfied: pillow>=8 in /usr/local/lib/python3.11/dist-packages (from matplotlib->catboost) (11.2.1)\n",
            "Requirement already satisfied: pyparsing>=2.3.1 in /usr/local/lib/python3.11/dist-packages (from matplotlib->catboost) (3.2.3)\n",
            "Requirement already satisfied: tenacity>=6.2.0 in /usr/local/lib/python3.11/dist-packages (from plotly->catboost) (9.1.2)\n",
            "Downloading catboost-1.2.8-cp311-cp311-manylinux2014_x86_64.whl (99.2 MB)\n",
            "\u001b[2K   \u001b[90m━━━━━━━━━━━━━━━━━━━━━━━━━━━━━━━━━━━━━━━━\u001b[0m \u001b[32m99.2/99.2 MB\u001b[0m \u001b[31m7.5 MB/s\u001b[0m eta \u001b[36m0:00:00\u001b[0m\n",
            "\u001b[?25hInstalling collected packages: catboost\n",
            "Successfully installed catboost-1.2.8\n"
          ]
        }
      ]
    },
    {
      "cell_type": "markdown",
      "source": [
        "**Разбиваем выборку**"
      ],
      "metadata": {
        "id": "sKO-eoFM3JaU"
      }
    },
    {
      "cell_type": "code",
      "source": [
        "X_train, X_test, y_train, y_test = train_test_split(df_copy2['summarized_text'], df_copy2['summarized_text_sentiment_label'], test_size=0.25)"
      ],
      "metadata": {
        "id": "ap4aGmu7ep7D"
      },
      "execution_count": 42,
      "outputs": []
    },
    {
      "cell_type": "markdown",
      "source": [
        "**Представляем данные в виде нужнoм для catboost**"
      ],
      "metadata": {
        "id": "swBJYZAe3OJK"
      }
    },
    {
      "cell_type": "code",
      "source": [
        "train_data = pd.DataFrame({\n",
        "    'text': X_train,\n",
        "    'label': y_train\n",
        "})\n",
        "\n",
        "test_data = pd.DataFrame({\n",
        "    'text': X_test,\n",
        "    'label': y_test\n",
        "})"
      ],
      "metadata": {
        "id": "mEFxXvfTpcfi"
      },
      "execution_count": 43,
      "outputs": []
    },
    {
      "cell_type": "markdown",
      "source": [
        "**Строим модель**"
      ],
      "metadata": {
        "id": "Y3mPVuWB3i06"
      }
    },
    {
      "cell_type": "code",
      "source": [
        "from catboost import CatBoostClassifier\n",
        "model_cat = CatBoostClassifier(\n",
        "    iterations=100,\n",
        "    learning_rate=0.1,\n",
        "    depth=3,\n",
        "    loss_function='MultiClass',\n",
        "    verbose=100\n",
        ")\n",
        "\n",
        "model_cat.fit(\n",
        "    train_data,\n",
        "    train_data['label'],\n",
        "    text_features=['text'],\n",
        "    eval_set=(test_data, test_data['label'])\n",
        ")"
      ],
      "metadata": {
        "id": "DGC1fKW7peHz",
        "colab": {
          "base_uri": "https://localhost:8080/"
        },
        "outputId": "d9d0851e-deb7-4f3c-edd9-5ad2744bac92"
      },
      "execution_count": 44,
      "outputs": [
        {
          "output_type": "stream",
          "name": "stdout",
          "text": [
            "0:\tlearn: 0.9094668\ttest: 0.9096187\tbest: 0.9096187 (0)\ttotal: 1.72s\tremaining: 2m 50s\n",
            "99:\tlearn: 0.0002167\ttest: 0.0002157\tbest: 0.0002157 (99)\ttotal: 46.7s\tremaining: 0us\n",
            "\n",
            "bestTest = 0.0002157050957\n",
            "bestIteration = 99\n",
            "\n"
          ]
        },
        {
          "output_type": "execute_result",
          "data": {
            "text/plain": [
              "<catboost.core.CatBoostClassifier at 0x79ff360d01d0>"
            ]
          },
          "metadata": {},
          "execution_count": 44
        }
      ]
    },
    {
      "cell_type": "markdown",
      "source": [
        "**Делаем предсказания**"
      ],
      "metadata": {
        "id": "56DIYOw73oUq"
      }
    },
    {
      "cell_type": "code",
      "source": [
        "predictions = model_cat.predict(test_data)"
      ],
      "metadata": {
        "id": "823bRdreq53T"
      },
      "execution_count": 45,
      "outputs": []
    },
    {
      "cell_type": "code",
      "source": [
        "print(classification_report(y_test, predictions))"
      ],
      "metadata": {
        "id": "ixvPfGZm14gL",
        "colab": {
          "base_uri": "https://localhost:8080/"
        },
        "outputId": "9f8598a2-f57a-4280-c626-150e9bdddd4d"
      },
      "execution_count": 46,
      "outputs": [
        {
          "output_type": "stream",
          "name": "stdout",
          "text": [
            "              precision    recall  f1-score   support\n",
            "\n",
            "           0       1.00      1.00      1.00      1032\n",
            "           1       1.00      1.00      1.00      1569\n",
            "           2       1.00      1.00      1.00      1926\n",
            "\n",
            "    accuracy                           1.00      4527\n",
            "   macro avg       1.00      1.00      1.00      4527\n",
            "weighted avg       1.00      1.00      1.00      4527\n",
            "\n"
          ]
        }
      ]
    },
    {
      "cell_type": "code",
      "source": [
        "cm = confusion_matrix(y_test, predictions, labels=model_cat.classes_)\n",
        "cm_display = ConfusionMatrixDisplay(confusion_matrix=cm, display_labels=model_cat.classes_)\n",
        "cm_display.plot()"
      ],
      "metadata": {
        "id": "LZn9bTQjqnHb",
        "colab": {
          "base_uri": "https://localhost:8080/",
          "height": 466
        },
        "outputId": "90ef48f1-334e-4464-9792-fd9760dfdbd1"
      },
      "execution_count": 47,
      "outputs": [
        {
          "output_type": "execute_result",
          "data": {
            "text/plain": [
              "<sklearn.metrics._plot.confusion_matrix.ConfusionMatrixDisplay at 0x79ff36359c10>"
            ]
          },
          "metadata": {},
          "execution_count": 47
        },
        {
          "output_type": "display_data",
          "data": {
            "text/plain": [
              "<Figure size 640x480 with 2 Axes>"
            ],
            "image/png": "[encoded data removed]"
          },
          "metadata": {}
        }
      ]
    },
    {
      "cell_type": "markdown",
      "source": [
        "**Вывод:** Точность получилась максимально точной, что подтверждает эффективность модели catboost."
      ],
      "metadata": {
        "id": "bsF0Srd73va6"
      }
    },
    {
      "cell_type": "markdown",
      "source": [
        "# **Общие выводы**\n",
        "\n",
        "В ходе выполнения работы была проведена предварительная обработка текста, включающая следующие этапы:\n",
        "- Приведение текста к нижнему регистру.\n",
        "- Удаление пунктуации и цифр.\n",
        "- Токенизация текста.\n",
        "- Стемминг.\n",
        "\n",
        "Далее была осуществлена векторизация текста с использованием двух методов:\n",
        "- Частотная векторизация (мешок слов).\n",
        "- Семантическая векторизация (Word2Vec).\n",
        "\n",
        "Для частотной векторизации были построены и оценены следующие модели:\n",
        "- Дерево решений с точностью 0.64.\n",
        "- Случайный лес с точностью 0.63.\n",
        "- Наивный байесовский классификатор с точностью 0.7.\n",
        "- Линейный классификатор с точностью 0.77.\n",
        "\n",
        "Для семантической векторизации была построена модель линейного классификатора с точностью 0.62.\n",
        "\n",
        "Также была построена модель CatBoost на сырых данных, которая показала точность 1.0.\n",
        "\n",
        "# Заключение\n",
        "\n",
        "В результате проведенного анализа и построения моделей можно сделать следующие выводы:\n",
        "- Предварительная обработка текста является важным этапом для улучшения качества данных.\n",
        "- Частотная векторизация показала лучшие результаты по сравнению с семантической векторизацией для используемых моделей.\n",
        "- Модель CatBoost на сырых данных показала наивысшую точность, что может свидетельствовать о ее высокой эффективности для данной задачи."
      ],
      "metadata": {
        "id": "_Ftxd7b3Bh0t"
      }
    },
    {
      "cell_type": "code",
      "source": [],
      "metadata": {
        "id": "54dVuljk6RpC"
      },
      "execution_count": null,
      "outputs": []
    }
  ]
}